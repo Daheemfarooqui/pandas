{
  "metadata": {
    "kernelspec": {
      "name": "python",
      "display_name": "Python (Pyodide)",
      "language": "python"
    },
    "language_info": {
      "codemirror_mode": {
        "name": "python",
        "version": 3
      },
      "file_extension": ".py",
      "mimetype": "text/x-python",
      "name": "python",
      "nbconvert_exporter": "python",
      "pygments_lexer": "ipython3",
      "version": "3.8"
    }
  },
  "nbformat_minor": 4,
  "nbformat": 4,
  "cells": [
    {
      "cell_type": "code",
      "source": "import pandas as pd",
      "metadata": {
        "trusted": true
      },
      "outputs": [],
      "execution_count": null
    },
    {
      "cell_type": "code",
      "source": "import pandas as pd\ndict1 ={'Name':['Priyang','Aadhya','Krisha','Vedant','Parshv',\n                'Mittal','Archana'],\n                'Marks':[98,89,99,87,90,83,99],\n                'Gender':['Male','Female','Female','Male','Male',\n                         'Female','Female']\n               }\ndf1=pd.DataFrame(dict1)\ndf1",
      "metadata": {
        "trusted": true
      },
      "outputs": [],
      "execution_count": null
    },
    {
      "cell_type": "markdown",
      "source": "### 1.Display Top 3 Rows of The Dataset",
      "metadata": {}
    },
    {
      "cell_type": "code",
      "source": "df1.head(3)",
      "metadata": {
        "trusted": true
      },
      "outputs": [],
      "execution_count": null
    },
    {
      "cell_type": "markdown",
      "source": "### 2. Check Last 3 Rows of The Dataset",
      "metadata": {}
    },
    {
      "cell_type": "code",
      "source": "\ndf1.tail(3)",
      "metadata": {
        "trusted": true
      },
      "outputs": [],
      "execution_count": null
    },
    {
      "cell_type": "markdown",
      "source": "### 3. Find Shape of Our Dataset (Number of Rows & Number of Columns)",
      "metadata": {}
    },
    {
      "cell_type": "code",
      "source": "print(\"number of rows is\",df1.shape[0])\nprint(\"number of columns is\",df1.shape[1])",
      "metadata": {
        "trusted": true
      },
      "outputs": [],
      "execution_count": null
    },
    {
      "cell_type": "code",
      "source": "",
      "metadata": {
        "trusted": true
      },
      "outputs": [],
      "execution_count": null
    },
    {
      "cell_type": "markdown",
      "source": "### 4. Get Information About Our Dataset Like Total Number Rows, Total Number of Columns, Datatypes of Each Column And Memory Requirement",
      "metadata": {}
    },
    {
      "cell_type": "code",
      "source": "df1.info()",
      "metadata": {
        "trusted": true
      },
      "outputs": [],
      "execution_count": null
    },
    {
      "cell_type": "markdown",
      "source": "### 5.Check Null Values In The Dataset",
      "metadata": {}
    },
    {
      "cell_type": "code",
      "source": "df1.isnull().sum()",
      "metadata": {
        "trusted": true
      },
      "outputs": [],
      "execution_count": null
    },
    {
      "cell_type": "markdown",
      "source": "### 6. Get Overall Statistics About The Dataframe",
      "metadata": {}
    },
    {
      "cell_type": "code",
      "source": "df1.describe()",
      "metadata": {
        "trusted": true
      },
      "outputs": [],
      "execution_count": null
    },
    {
      "cell_type": "markdown",
      "source": "### 7.Find Unique Values From The Gender Column",
      "metadata": {}
    },
    {
      "cell_type": "code",
      "source": "df1[\"Gender\"].unique()",
      "metadata": {
        "trusted": true
      },
      "outputs": [],
      "execution_count": null
    },
    {
      "cell_type": "markdown",
      "source": "### 8. Find the Number of Unique values from the Gender column",
      "metadata": {}
    },
    {
      "cell_type": "code",
      "source": "df1[\"Gender\"].nunique()",
      "metadata": {
        "trusted": true
      },
      "outputs": [],
      "execution_count": null
    },
    {
      "cell_type": "markdown",
      "source": "### 9. Display Count of Unique Values In Gender Column",
      "metadata": {}
    },
    {
      "cell_type": "code",
      "source": "df1[\"Gender\"].value_counts()",
      "metadata": {
        "trusted": true
      },
      "outputs": [],
      "execution_count": null
    },
    {
      "cell_type": "markdown",
      "source": "### 10. Find Total Number of Students Having Marks Between 90 To 100 (Inclusive) Using Between Method",
      "metadata": {}
    },
    {
      "cell_type": "code",
      "source": "sum(df1[\"Marks\"].between(90,100))",
      "metadata": {
        "trusted": true
      },
      "outputs": [],
      "execution_count": null
    },
    {
      "cell_type": "markdown",
      "source": "### 11. Find Average Marks",
      "metadata": {}
    },
    {
      "cell_type": "code",
      "source": "df1[\"Marks\"].mean()",
      "metadata": {
        "trusted": true
      },
      "outputs": [],
      "execution_count": null
    },
    {
      "cell_type": "markdown",
      "source": "### 17. Display Name & Marks of The Female Students",
      "metadata": {}
    },
    {
      "cell_type": "code",
      "source": "df1[df1[\"Gender\"]==\"Female\"]",
      "metadata": {
        "trusted": true
      },
      "outputs": [],
      "execution_count": null
    },
    {
      "cell_type": "markdown",
      "source": "### 16. Sort The Dataframe As Per The Marks Column",
      "metadata": {}
    },
    {
      "cell_type": "code",
      "source": "df1.sort_values(\"Marks\")",
      "metadata": {
        "trusted": true
      },
      "outputs": [],
      "execution_count": null
    },
    {
      "cell_type": "markdown",
      "source": "### 15. Print Name of the Columns",
      "metadata": {}
    },
    {
      "cell_type": "code",
      "source": "df1.columns",
      "metadata": {
        "trusted": true
      },
      "outputs": [],
      "execution_count": null
    },
    {
      "cell_type": "markdown",
      "source": "### 14. Drop the Column Gender",
      "metadata": {}
    },
    {
      "cell_type": "code",
      "source": "df1.drop(columns=\"Gender\",inplace=True)",
      "metadata": {
        "trusted": true
      },
      "outputs": [],
      "execution_count": null
    }
  ]
}