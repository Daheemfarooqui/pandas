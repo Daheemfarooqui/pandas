{
  "metadata": {
    "kernelspec": {
      "name": "python",
      "display_name": "Python (Pyodide)",
      "language": "python"
    },
    "language_info": {
      "codemirror_mode": {
        "name": "python",
        "version": 3
      },
      "file_extension": ".py",
      "mimetype": "text/x-python",
      "name": "python",
      "nbconvert_exporter": "python",
      "pygments_lexer": "ipython3",
      "version": "3.8"
    }
  },
  "nbformat_minor": 4,
  "nbformat": 4,
  "cells": [
    {
      "cell_type": "code",
      "source": "import pandas as pd",
      "metadata": {
        "trusted": true
      },
      "outputs": [],
      "execution_count": 1
    },
    {
      "cell_type": "code",
      "source": "df = pd.read_csv('Salaries.csv')\ndf",
      "metadata": {
        "trusted": true
      },
      "outputs": [
        {
          "name": "stderr",
          "text": "<ipython-input-2-927a872a4a1d>:1: DtypeWarning: Columns (3,4,5,6,12) have mixed types. Specify dtype option on import or set low_memory=False.\n  df = pd.read_csv('Salaries.csv')\n",
          "output_type": "stream"
        },
        {
          "execution_count": 2,
          "output_type": "execute_result",
          "data": {
            "text/plain": "            Id       EmployeeName  \\\n0            1     NATHANIEL FORD   \n1            2       GARY JIMENEZ   \n2            3     ALBERT PARDINI   \n3            4  CHRISTOPHER CHONG   \n4            5    PATRICK GARDNER   \n...        ...                ...   \n148649  148650      Roy I Tillery   \n148650  148651       Not provided   \n148651  148652       Not provided   \n148652  148653       Not provided   \n148653  148654          Joe Lopez   \n\n                                              JobTitle       BasePay  \\\n0       GENERAL MANAGER-METROPOLITAN TRANSIT AUTHORITY     167411.18   \n1                      CAPTAIN III (POLICE DEPARTMENT)     155966.02   \n2                      CAPTAIN III (POLICE DEPARTMENT)     212739.13   \n3                 WIRE ROPE CABLE MAINTENANCE MECHANIC       77916.0   \n4         DEPUTY CHIEF OF DEPARTMENT,(FIRE DEPARTMENT)      134401.6   \n...                                                ...           ...   \n148649                                       Custodian          0.00   \n148650                                    Not provided  Not Provided   \n148651                                    Not provided  Not Provided   \n148652                                    Not provided  Not Provided   \n148653                      Counselor, Log Cabin Ranch          0.00   \n\n         OvertimePay      OtherPay      Benefits   TotalPay  TotalPayBenefits  \\\n0                0.0     400184.25           NaN  567595.43         567595.43   \n1          245131.88     137811.38           NaN  538909.28         538909.28   \n2          106088.18       16452.6           NaN  335279.91         335279.91   \n3           56120.71      198306.9           NaN  332343.61         332343.61   \n4             9737.0     182234.59           NaN  326373.19         326373.19   \n...              ...           ...           ...        ...               ...   \n148649          0.00          0.00          0.00       0.00              0.00   \n148650  Not Provided  Not Provided  Not Provided       0.00              0.00   \n148651  Not Provided  Not Provided  Not Provided       0.00              0.00   \n148652  Not Provided  Not Provided  Not Provided       0.00              0.00   \n148653          0.00       -618.13          0.00    -618.13           -618.13   \n\n        Year  Notes         Agency Status  \n0       2011    NaN  San Francisco    NaN  \n1       2011    NaN  San Francisco    NaN  \n2       2011    NaN  San Francisco    NaN  \n3       2011    NaN  San Francisco    NaN  \n4       2011    NaN  San Francisco    NaN  \n...      ...    ...            ...    ...  \n148649  2014    NaN  San Francisco     PT  \n148650  2014    NaN  San Francisco    NaN  \n148651  2014    NaN  San Francisco    NaN  \n148652  2014    NaN  San Francisco    NaN  \n148653  2014    NaN  San Francisco     PT  \n\n[148654 rows x 13 columns]",
            "text/html": "<div>\n<style scoped>\n    .dataframe tbody tr th:only-of-type {\n        vertical-align: middle;\n    }\n\n    .dataframe tbody tr th {\n        vertical-align: top;\n    }\n\n    .dataframe thead th {\n        text-align: right;\n    }\n</style>\n<table border=\"1\" class=\"dataframe\">\n  <thead>\n    <tr style=\"text-align: right;\">\n      <th></th>\n      <th>Id</th>\n      <th>EmployeeName</th>\n      <th>JobTitle</th>\n      <th>BasePay</th>\n      <th>OvertimePay</th>\n      <th>OtherPay</th>\n      <th>Benefits</th>\n      <th>TotalPay</th>\n      <th>TotalPayBenefits</th>\n      <th>Year</th>\n      <th>Notes</th>\n      <th>Agency</th>\n      <th>Status</th>\n    </tr>\n  </thead>\n  <tbody>\n    <tr>\n      <th>0</th>\n      <td>1</td>\n      <td>NATHANIEL FORD</td>\n      <td>GENERAL MANAGER-METROPOLITAN TRANSIT AUTHORITY</td>\n      <td>167411.18</td>\n      <td>0.0</td>\n      <td>400184.25</td>\n      <td>NaN</td>\n      <td>567595.43</td>\n      <td>567595.43</td>\n      <td>2011</td>\n      <td>NaN</td>\n      <td>San Francisco</td>\n      <td>NaN</td>\n    </tr>\n    <tr>\n      <th>1</th>\n      <td>2</td>\n      <td>GARY JIMENEZ</td>\n      <td>CAPTAIN III (POLICE DEPARTMENT)</td>\n      <td>155966.02</td>\n      <td>245131.88</td>\n      <td>137811.38</td>\n      <td>NaN</td>\n      <td>538909.28</td>\n      <td>538909.28</td>\n      <td>2011</td>\n      <td>NaN</td>\n      <td>San Francisco</td>\n      <td>NaN</td>\n    </tr>\n    <tr>\n      <th>2</th>\n      <td>3</td>\n      <td>ALBERT PARDINI</td>\n      <td>CAPTAIN III (POLICE DEPARTMENT)</td>\n      <td>212739.13</td>\n      <td>106088.18</td>\n      <td>16452.6</td>\n      <td>NaN</td>\n      <td>335279.91</td>\n      <td>335279.91</td>\n      <td>2011</td>\n      <td>NaN</td>\n      <td>San Francisco</td>\n      <td>NaN</td>\n    </tr>\n    <tr>\n      <th>3</th>\n      <td>4</td>\n      <td>CHRISTOPHER CHONG</td>\n      <td>WIRE ROPE CABLE MAINTENANCE MECHANIC</td>\n      <td>77916.0</td>\n      <td>56120.71</td>\n      <td>198306.9</td>\n      <td>NaN</td>\n      <td>332343.61</td>\n      <td>332343.61</td>\n      <td>2011</td>\n      <td>NaN</td>\n      <td>San Francisco</td>\n      <td>NaN</td>\n    </tr>\n    <tr>\n      <th>4</th>\n      <td>5</td>\n      <td>PATRICK GARDNER</td>\n      <td>DEPUTY CHIEF OF DEPARTMENT,(FIRE DEPARTMENT)</td>\n      <td>134401.6</td>\n      <td>9737.0</td>\n      <td>182234.59</td>\n      <td>NaN</td>\n      <td>326373.19</td>\n      <td>326373.19</td>\n      <td>2011</td>\n      <td>NaN</td>\n      <td>San Francisco</td>\n      <td>NaN</td>\n    </tr>\n    <tr>\n      <th>...</th>\n      <td>...</td>\n      <td>...</td>\n      <td>...</td>\n      <td>...</td>\n      <td>...</td>\n      <td>...</td>\n      <td>...</td>\n      <td>...</td>\n      <td>...</td>\n      <td>...</td>\n      <td>...</td>\n      <td>...</td>\n      <td>...</td>\n    </tr>\n    <tr>\n      <th>148649</th>\n      <td>148650</td>\n      <td>Roy I Tillery</td>\n      <td>Custodian</td>\n      <td>0.00</td>\n      <td>0.00</td>\n      <td>0.00</td>\n      <td>0.00</td>\n      <td>0.00</td>\n      <td>0.00</td>\n      <td>2014</td>\n      <td>NaN</td>\n      <td>San Francisco</td>\n      <td>PT</td>\n    </tr>\n    <tr>\n      <th>148650</th>\n      <td>148651</td>\n      <td>Not provided</td>\n      <td>Not provided</td>\n      <td>Not Provided</td>\n      <td>Not Provided</td>\n      <td>Not Provided</td>\n      <td>Not Provided</td>\n      <td>0.00</td>\n      <td>0.00</td>\n      <td>2014</td>\n      <td>NaN</td>\n      <td>San Francisco</td>\n      <td>NaN</td>\n    </tr>\n    <tr>\n      <th>148651</th>\n      <td>148652</td>\n      <td>Not provided</td>\n      <td>Not provided</td>\n      <td>Not Provided</td>\n      <td>Not Provided</td>\n      <td>Not Provided</td>\n      <td>Not Provided</td>\n      <td>0.00</td>\n      <td>0.00</td>\n      <td>2014</td>\n      <td>NaN</td>\n      <td>San Francisco</td>\n      <td>NaN</td>\n    </tr>\n    <tr>\n      <th>148652</th>\n      <td>148653</td>\n      <td>Not provided</td>\n      <td>Not provided</td>\n      <td>Not Provided</td>\n      <td>Not Provided</td>\n      <td>Not Provided</td>\n      <td>Not Provided</td>\n      <td>0.00</td>\n      <td>0.00</td>\n      <td>2014</td>\n      <td>NaN</td>\n      <td>San Francisco</td>\n      <td>NaN</td>\n    </tr>\n    <tr>\n      <th>148653</th>\n      <td>148654</td>\n      <td>Joe Lopez</td>\n      <td>Counselor, Log Cabin Ranch</td>\n      <td>0.00</td>\n      <td>0.00</td>\n      <td>-618.13</td>\n      <td>0.00</td>\n      <td>-618.13</td>\n      <td>-618.13</td>\n      <td>2014</td>\n      <td>NaN</td>\n      <td>San Francisco</td>\n      <td>PT</td>\n    </tr>\n  </tbody>\n</table>\n<p>148654 rows × 13 columns</p>\n</div>"
          },
          "metadata": {}
        }
      ],
      "execution_count": 2
    },
    {
      "cell_type": "markdown",
      "source": "### 1.Display Top 10 Rows of The Dataset",
      "metadata": {}
    },
    {
      "cell_type": "code",
      "source": "df.head(10)",
      "metadata": {
        "trusted": true
      },
      "outputs": [
        {
          "execution_count": 3,
          "output_type": "execute_result",
          "data": {
            "text/plain": "   Id        EmployeeName                                        JobTitle  \\\n0   1      NATHANIEL FORD  GENERAL MANAGER-METROPOLITAN TRANSIT AUTHORITY   \n1   2        GARY JIMENEZ                 CAPTAIN III (POLICE DEPARTMENT)   \n2   3      ALBERT PARDINI                 CAPTAIN III (POLICE DEPARTMENT)   \n3   4   CHRISTOPHER CHONG            WIRE ROPE CABLE MAINTENANCE MECHANIC   \n4   5     PATRICK GARDNER    DEPUTY CHIEF OF DEPARTMENT,(FIRE DEPARTMENT)   \n5   6      DAVID SULLIVAN                       ASSISTANT DEPUTY CHIEF II   \n6   7           ALSON LEE              BATTALION CHIEF, (FIRE DEPARTMENT)   \n7   8       DAVID KUSHNER                  DEPUTY DIRECTOR OF INVESTMENTS   \n8   9      MICHAEL MORRIS              BATTALION CHIEF, (FIRE DEPARTMENT)   \n9  10  JOANNE HAYES-WHITE          CHIEF OF DEPARTMENT, (FIRE DEPARTMENT)   \n\n     BasePay OvertimePay   OtherPay Benefits   TotalPay  TotalPayBenefits  \\\n0  167411.18         0.0  400184.25      NaN  567595.43         567595.43   \n1  155966.02   245131.88  137811.38      NaN  538909.28         538909.28   \n2  212739.13   106088.18    16452.6      NaN  335279.91         335279.91   \n3    77916.0    56120.71   198306.9      NaN  332343.61         332343.61   \n4   134401.6      9737.0  182234.59      NaN  326373.19         326373.19   \n5   118602.0      8601.0  189082.74      NaN  316285.74         316285.74   \n6   92492.01     89062.9  134426.14      NaN  315981.05         315981.05   \n7  256576.96         0.0    51322.5      NaN  307899.46         307899.46   \n8  176932.64    86362.68   40132.23      NaN  303427.55         303427.55   \n9   285262.0         0.0   17115.73      NaN  302377.73         302377.73   \n\n   Year  Notes         Agency Status  \n0  2011    NaN  San Francisco    NaN  \n1  2011    NaN  San Francisco    NaN  \n2  2011    NaN  San Francisco    NaN  \n3  2011    NaN  San Francisco    NaN  \n4  2011    NaN  San Francisco    NaN  \n5  2011    NaN  San Francisco    NaN  \n6  2011    NaN  San Francisco    NaN  \n7  2011    NaN  San Francisco    NaN  \n8  2011    NaN  San Francisco    NaN  \n9  2011    NaN  San Francisco    NaN  ",
            "text/html": "<div>\n<style scoped>\n    .dataframe tbody tr th:only-of-type {\n        vertical-align: middle;\n    }\n\n    .dataframe tbody tr th {\n        vertical-align: top;\n    }\n\n    .dataframe thead th {\n        text-align: right;\n    }\n</style>\n<table border=\"1\" class=\"dataframe\">\n  <thead>\n    <tr style=\"text-align: right;\">\n      <th></th>\n      <th>Id</th>\n      <th>EmployeeName</th>\n      <th>JobTitle</th>\n      <th>BasePay</th>\n      <th>OvertimePay</th>\n      <th>OtherPay</th>\n      <th>Benefits</th>\n      <th>TotalPay</th>\n      <th>TotalPayBenefits</th>\n      <th>Year</th>\n      <th>Notes</th>\n      <th>Agency</th>\n      <th>Status</th>\n    </tr>\n  </thead>\n  <tbody>\n    <tr>\n      <th>0</th>\n      <td>1</td>\n      <td>NATHANIEL FORD</td>\n      <td>GENERAL MANAGER-METROPOLITAN TRANSIT AUTHORITY</td>\n      <td>167411.18</td>\n      <td>0.0</td>\n      <td>400184.25</td>\n      <td>NaN</td>\n      <td>567595.43</td>\n      <td>567595.43</td>\n      <td>2011</td>\n      <td>NaN</td>\n      <td>San Francisco</td>\n      <td>NaN</td>\n    </tr>\n    <tr>\n      <th>1</th>\n      <td>2</td>\n      <td>GARY JIMENEZ</td>\n      <td>CAPTAIN III (POLICE DEPARTMENT)</td>\n      <td>155966.02</td>\n      <td>245131.88</td>\n      <td>137811.38</td>\n      <td>NaN</td>\n      <td>538909.28</td>\n      <td>538909.28</td>\n      <td>2011</td>\n      <td>NaN</td>\n      <td>San Francisco</td>\n      <td>NaN</td>\n    </tr>\n    <tr>\n      <th>2</th>\n      <td>3</td>\n      <td>ALBERT PARDINI</td>\n      <td>CAPTAIN III (POLICE DEPARTMENT)</td>\n      <td>212739.13</td>\n      <td>106088.18</td>\n      <td>16452.6</td>\n      <td>NaN</td>\n      <td>335279.91</td>\n      <td>335279.91</td>\n      <td>2011</td>\n      <td>NaN</td>\n      <td>San Francisco</td>\n      <td>NaN</td>\n    </tr>\n    <tr>\n      <th>3</th>\n      <td>4</td>\n      <td>CHRISTOPHER CHONG</td>\n      <td>WIRE ROPE CABLE MAINTENANCE MECHANIC</td>\n      <td>77916.0</td>\n      <td>56120.71</td>\n      <td>198306.9</td>\n      <td>NaN</td>\n      <td>332343.61</td>\n      <td>332343.61</td>\n      <td>2011</td>\n      <td>NaN</td>\n      <td>San Francisco</td>\n      <td>NaN</td>\n    </tr>\n    <tr>\n      <th>4</th>\n      <td>5</td>\n      <td>PATRICK GARDNER</td>\n      <td>DEPUTY CHIEF OF DEPARTMENT,(FIRE DEPARTMENT)</td>\n      <td>134401.6</td>\n      <td>9737.0</td>\n      <td>182234.59</td>\n      <td>NaN</td>\n      <td>326373.19</td>\n      <td>326373.19</td>\n      <td>2011</td>\n      <td>NaN</td>\n      <td>San Francisco</td>\n      <td>NaN</td>\n    </tr>\n    <tr>\n      <th>5</th>\n      <td>6</td>\n      <td>DAVID SULLIVAN</td>\n      <td>ASSISTANT DEPUTY CHIEF II</td>\n      <td>118602.0</td>\n      <td>8601.0</td>\n      <td>189082.74</td>\n      <td>NaN</td>\n      <td>316285.74</td>\n      <td>316285.74</td>\n      <td>2011</td>\n      <td>NaN</td>\n      <td>San Francisco</td>\n      <td>NaN</td>\n    </tr>\n    <tr>\n      <th>6</th>\n      <td>7</td>\n      <td>ALSON LEE</td>\n      <td>BATTALION CHIEF, (FIRE DEPARTMENT)</td>\n      <td>92492.01</td>\n      <td>89062.9</td>\n      <td>134426.14</td>\n      <td>NaN</td>\n      <td>315981.05</td>\n      <td>315981.05</td>\n      <td>2011</td>\n      <td>NaN</td>\n      <td>San Francisco</td>\n      <td>NaN</td>\n    </tr>\n    <tr>\n      <th>7</th>\n      <td>8</td>\n      <td>DAVID KUSHNER</td>\n      <td>DEPUTY DIRECTOR OF INVESTMENTS</td>\n      <td>256576.96</td>\n      <td>0.0</td>\n      <td>51322.5</td>\n      <td>NaN</td>\n      <td>307899.46</td>\n      <td>307899.46</td>\n      <td>2011</td>\n      <td>NaN</td>\n      <td>San Francisco</td>\n      <td>NaN</td>\n    </tr>\n    <tr>\n      <th>8</th>\n      <td>9</td>\n      <td>MICHAEL MORRIS</td>\n      <td>BATTALION CHIEF, (FIRE DEPARTMENT)</td>\n      <td>176932.64</td>\n      <td>86362.68</td>\n      <td>40132.23</td>\n      <td>NaN</td>\n      <td>303427.55</td>\n      <td>303427.55</td>\n      <td>2011</td>\n      <td>NaN</td>\n      <td>San Francisco</td>\n      <td>NaN</td>\n    </tr>\n    <tr>\n      <th>9</th>\n      <td>10</td>\n      <td>JOANNE HAYES-WHITE</td>\n      <td>CHIEF OF DEPARTMENT, (FIRE DEPARTMENT)</td>\n      <td>285262.0</td>\n      <td>0.0</td>\n      <td>17115.73</td>\n      <td>NaN</td>\n      <td>302377.73</td>\n      <td>302377.73</td>\n      <td>2011</td>\n      <td>NaN</td>\n      <td>San Francisco</td>\n      <td>NaN</td>\n    </tr>\n  </tbody>\n</table>\n</div>"
          },
          "metadata": {}
        }
      ],
      "execution_count": 3
    },
    {
      "cell_type": "markdown",
      "source": "### 2. Check Last 10 Rows of The Dataset",
      "metadata": {}
    },
    {
      "cell_type": "code",
      "source": "df.tail(10)",
      "metadata": {
        "trusted": true
      },
      "outputs": [
        {
          "execution_count": 4,
          "output_type": "execute_result",
          "data": {
            "text/plain": "            Id      EmployeeName                      JobTitle       BasePay  \\\n148644  148645      Randy D Winn  Stationary Eng, Sewage Plant          0.00   \n148645  148646  Carolyn A Wilson     Human Services Technician          0.00   \n148646  148647      Not provided                  Not provided  Not Provided   \n148647  148648    Joann Anderson   Communications Dispatcher 2          0.00   \n148648  148649       Leon Walker                     Custodian          0.00   \n148649  148650     Roy I Tillery                     Custodian          0.00   \n148650  148651      Not provided                  Not provided  Not Provided   \n148651  148652      Not provided                  Not provided  Not Provided   \n148652  148653      Not provided                  Not provided  Not Provided   \n148653  148654         Joe Lopez    Counselor, Log Cabin Ranch          0.00   \n\n         OvertimePay      OtherPay      Benefits  TotalPay  TotalPayBenefits  \\\n148644          0.00          0.00          0.00      0.00              0.00   \n148645          0.00          0.00          0.00      0.00              0.00   \n148646  Not Provided  Not Provided  Not Provided      0.00              0.00   \n148647          0.00          0.00          0.00      0.00              0.00   \n148648          0.00          0.00          0.00      0.00              0.00   \n148649          0.00          0.00          0.00      0.00              0.00   \n148650  Not Provided  Not Provided  Not Provided      0.00              0.00   \n148651  Not Provided  Not Provided  Not Provided      0.00              0.00   \n148652  Not Provided  Not Provided  Not Provided      0.00              0.00   \n148653          0.00       -618.13          0.00   -618.13           -618.13   \n\n        Year  Notes         Agency Status  \n148644  2014    NaN  San Francisco     PT  \n148645  2014    NaN  San Francisco     PT  \n148646  2014    NaN  San Francisco    NaN  \n148647  2014    NaN  San Francisco     PT  \n148648  2014    NaN  San Francisco     PT  \n148649  2014    NaN  San Francisco     PT  \n148650  2014    NaN  San Francisco    NaN  \n148651  2014    NaN  San Francisco    NaN  \n148652  2014    NaN  San Francisco    NaN  \n148653  2014    NaN  San Francisco     PT  ",
            "text/html": "<div>\n<style scoped>\n    .dataframe tbody tr th:only-of-type {\n        vertical-align: middle;\n    }\n\n    .dataframe tbody tr th {\n        vertical-align: top;\n    }\n\n    .dataframe thead th {\n        text-align: right;\n    }\n</style>\n<table border=\"1\" class=\"dataframe\">\n  <thead>\n    <tr style=\"text-align: right;\">\n      <th></th>\n      <th>Id</th>\n      <th>EmployeeName</th>\n      <th>JobTitle</th>\n      <th>BasePay</th>\n      <th>OvertimePay</th>\n      <th>OtherPay</th>\n      <th>Benefits</th>\n      <th>TotalPay</th>\n      <th>TotalPayBenefits</th>\n      <th>Year</th>\n      <th>Notes</th>\n      <th>Agency</th>\n      <th>Status</th>\n    </tr>\n  </thead>\n  <tbody>\n    <tr>\n      <th>148644</th>\n      <td>148645</td>\n      <td>Randy D Winn</td>\n      <td>Stationary Eng, Sewage Plant</td>\n      <td>0.00</td>\n      <td>0.00</td>\n      <td>0.00</td>\n      <td>0.00</td>\n      <td>0.00</td>\n      <td>0.00</td>\n      <td>2014</td>\n      <td>NaN</td>\n      <td>San Francisco</td>\n      <td>PT</td>\n    </tr>\n    <tr>\n      <th>148645</th>\n      <td>148646</td>\n      <td>Carolyn A Wilson</td>\n      <td>Human Services Technician</td>\n      <td>0.00</td>\n      <td>0.00</td>\n      <td>0.00</td>\n      <td>0.00</td>\n      <td>0.00</td>\n      <td>0.00</td>\n      <td>2014</td>\n      <td>NaN</td>\n      <td>San Francisco</td>\n      <td>PT</td>\n    </tr>\n    <tr>\n      <th>148646</th>\n      <td>148647</td>\n      <td>Not provided</td>\n      <td>Not provided</td>\n      <td>Not Provided</td>\n      <td>Not Provided</td>\n      <td>Not Provided</td>\n      <td>Not Provided</td>\n      <td>0.00</td>\n      <td>0.00</td>\n      <td>2014</td>\n      <td>NaN</td>\n      <td>San Francisco</td>\n      <td>NaN</td>\n    </tr>\n    <tr>\n      <th>148647</th>\n      <td>148648</td>\n      <td>Joann Anderson</td>\n      <td>Communications Dispatcher 2</td>\n      <td>0.00</td>\n      <td>0.00</td>\n      <td>0.00</td>\n      <td>0.00</td>\n      <td>0.00</td>\n      <td>0.00</td>\n      <td>2014</td>\n      <td>NaN</td>\n      <td>San Francisco</td>\n      <td>PT</td>\n    </tr>\n    <tr>\n      <th>148648</th>\n      <td>148649</td>\n      <td>Leon Walker</td>\n      <td>Custodian</td>\n      <td>0.00</td>\n      <td>0.00</td>\n      <td>0.00</td>\n      <td>0.00</td>\n      <td>0.00</td>\n      <td>0.00</td>\n      <td>2014</td>\n      <td>NaN</td>\n      <td>San Francisco</td>\n      <td>PT</td>\n    </tr>\n    <tr>\n      <th>148649</th>\n      <td>148650</td>\n      <td>Roy I Tillery</td>\n      <td>Custodian</td>\n      <td>0.00</td>\n      <td>0.00</td>\n      <td>0.00</td>\n      <td>0.00</td>\n      <td>0.00</td>\n      <td>0.00</td>\n      <td>2014</td>\n      <td>NaN</td>\n      <td>San Francisco</td>\n      <td>PT</td>\n    </tr>\n    <tr>\n      <th>148650</th>\n      <td>148651</td>\n      <td>Not provided</td>\n      <td>Not provided</td>\n      <td>Not Provided</td>\n      <td>Not Provided</td>\n      <td>Not Provided</td>\n      <td>Not Provided</td>\n      <td>0.00</td>\n      <td>0.00</td>\n      <td>2014</td>\n      <td>NaN</td>\n      <td>San Francisco</td>\n      <td>NaN</td>\n    </tr>\n    <tr>\n      <th>148651</th>\n      <td>148652</td>\n      <td>Not provided</td>\n      <td>Not provided</td>\n      <td>Not Provided</td>\n      <td>Not Provided</td>\n      <td>Not Provided</td>\n      <td>Not Provided</td>\n      <td>0.00</td>\n      <td>0.00</td>\n      <td>2014</td>\n      <td>NaN</td>\n      <td>San Francisco</td>\n      <td>NaN</td>\n    </tr>\n    <tr>\n      <th>148652</th>\n      <td>148653</td>\n      <td>Not provided</td>\n      <td>Not provided</td>\n      <td>Not Provided</td>\n      <td>Not Provided</td>\n      <td>Not Provided</td>\n      <td>Not Provided</td>\n      <td>0.00</td>\n      <td>0.00</td>\n      <td>2014</td>\n      <td>NaN</td>\n      <td>San Francisco</td>\n      <td>NaN</td>\n    </tr>\n    <tr>\n      <th>148653</th>\n      <td>148654</td>\n      <td>Joe Lopez</td>\n      <td>Counselor, Log Cabin Ranch</td>\n      <td>0.00</td>\n      <td>0.00</td>\n      <td>-618.13</td>\n      <td>0.00</td>\n      <td>-618.13</td>\n      <td>-618.13</td>\n      <td>2014</td>\n      <td>NaN</td>\n      <td>San Francisco</td>\n      <td>PT</td>\n    </tr>\n  </tbody>\n</table>\n</div>"
          },
          "metadata": {}
        }
      ],
      "execution_count": 4
    },
    {
      "cell_type": "markdown",
      "source": "### 3. Find Shape of Our Dataset (Number of Rows And Number of Columns)",
      "metadata": {}
    },
    {
      "cell_type": "code",
      "source": "print(\"Number of rows in Dataset\",df.shape[0])\nprint(\"Number of columns in Dataset\",df.shape[1])",
      "metadata": {
        "trusted": true
      },
      "outputs": [
        {
          "name": "stdout",
          "text": "Number of rows in Dataset 148654\nNumber of columns in Dataset 13\n",
          "output_type": "stream"
        }
      ],
      "execution_count": 5
    },
    {
      "cell_type": "markdown",
      "source": "### 4. Getting Information About Our Dataset Like Total Number Rows, \n### Total Number of Columns, Datatypes of Each Column And Memory Requirement",
      "metadata": {}
    },
    {
      "cell_type": "code",
      "source": "df.info()",
      "metadata": {
        "trusted": true
      },
      "outputs": [
        {
          "name": "stdout",
          "text": "<class 'pandas.core.frame.DataFrame'>\nRangeIndex: 148654 entries, 0 to 148653\nData columns (total 13 columns):\n #   Column            Non-Null Count   Dtype  \n---  ------            --------------   -----  \n 0   Id                148654 non-null  int64  \n 1   EmployeeName      148654 non-null  object \n 2   JobTitle          148654 non-null  object \n 3   BasePay           148049 non-null  object \n 4   OvertimePay       148654 non-null  object \n 5   OtherPay          148654 non-null  object \n 6   Benefits          112495 non-null  object \n 7   TotalPay          148654 non-null  float64\n 8   TotalPayBenefits  148654 non-null  float64\n 9   Year              148654 non-null  int64  \n 10  Notes             0 non-null       float64\n 11  Agency            148654 non-null  object \n 12  Status            38119 non-null   object \ndtypes: float64(3), int64(2), object(8)\nmemory usage: 10.2+ MB\n",
          "output_type": "stream"
        }
      ],
      "execution_count": 6
    },
    {
      "cell_type": "markdown",
      "source": "### 5.Check Null Values In The Dataset",
      "metadata": {}
    },
    {
      "cell_type": "code",
      "source": "df.isna().sum()",
      "metadata": {
        "trusted": true
      },
      "outputs": [
        {
          "execution_count": 7,
          "output_type": "execute_result",
          "data": {
            "text/plain": "Id                       0\nEmployeeName             0\nJobTitle                 0\nBasePay                605\nOvertimePay              0\nOtherPay                 0\nBenefits             36159\nTotalPay                 0\nTotalPayBenefits         0\nYear                     0\nNotes               148654\nAgency                   0\nStatus              110535\ndtype: int64"
          },
          "metadata": {}
        }
      ],
      "execution_count": 7
    },
    {
      "cell_type": "markdown",
      "source": "### 6. Drop ID, Notes, Agency and Status Columns",
      "metadata": {}
    },
    {
      "cell_type": "code",
      "source": "df.drop(columns=[\"Id\",\"Notes\",\"Agency\",\"Status\"],inplace=True)\ndf",
      "metadata": {
        "trusted": true
      },
      "outputs": [
        {
          "execution_count": 8,
          "output_type": "execute_result",
          "data": {
            "text/plain": "             EmployeeName                                        JobTitle  \\\n0          NATHANIEL FORD  GENERAL MANAGER-METROPOLITAN TRANSIT AUTHORITY   \n1            GARY JIMENEZ                 CAPTAIN III (POLICE DEPARTMENT)   \n2          ALBERT PARDINI                 CAPTAIN III (POLICE DEPARTMENT)   \n3       CHRISTOPHER CHONG            WIRE ROPE CABLE MAINTENANCE MECHANIC   \n4         PATRICK GARDNER    DEPUTY CHIEF OF DEPARTMENT,(FIRE DEPARTMENT)   \n...                   ...                                             ...   \n148649      Roy I Tillery                                       Custodian   \n148650       Not provided                                    Not provided   \n148651       Not provided                                    Not provided   \n148652       Not provided                                    Not provided   \n148653          Joe Lopez                      Counselor, Log Cabin Ranch   \n\n             BasePay   OvertimePay      OtherPay      Benefits   TotalPay  \\\n0          167411.18           0.0     400184.25           NaN  567595.43   \n1          155966.02     245131.88     137811.38           NaN  538909.28   \n2          212739.13     106088.18       16452.6           NaN  335279.91   \n3            77916.0      56120.71      198306.9           NaN  332343.61   \n4           134401.6        9737.0     182234.59           NaN  326373.19   \n...              ...           ...           ...           ...        ...   \n148649          0.00          0.00          0.00          0.00       0.00   \n148650  Not Provided  Not Provided  Not Provided  Not Provided       0.00   \n148651  Not Provided  Not Provided  Not Provided  Not Provided       0.00   \n148652  Not Provided  Not Provided  Not Provided  Not Provided       0.00   \n148653          0.00          0.00       -618.13          0.00    -618.13   \n\n        TotalPayBenefits  Year  \n0              567595.43  2011  \n1              538909.28  2011  \n2              335279.91  2011  \n3              332343.61  2011  \n4              326373.19  2011  \n...                  ...   ...  \n148649              0.00  2014  \n148650              0.00  2014  \n148651              0.00  2014  \n148652              0.00  2014  \n148653           -618.13  2014  \n\n[148654 rows x 9 columns]",
            "text/html": "<div>\n<style scoped>\n    .dataframe tbody tr th:only-of-type {\n        vertical-align: middle;\n    }\n\n    .dataframe tbody tr th {\n        vertical-align: top;\n    }\n\n    .dataframe thead th {\n        text-align: right;\n    }\n</style>\n<table border=\"1\" class=\"dataframe\">\n  <thead>\n    <tr style=\"text-align: right;\">\n      <th></th>\n      <th>EmployeeName</th>\n      <th>JobTitle</th>\n      <th>BasePay</th>\n      <th>OvertimePay</th>\n      <th>OtherPay</th>\n      <th>Benefits</th>\n      <th>TotalPay</th>\n      <th>TotalPayBenefits</th>\n      <th>Year</th>\n    </tr>\n  </thead>\n  <tbody>\n    <tr>\n      <th>0</th>\n      <td>NATHANIEL FORD</td>\n      <td>GENERAL MANAGER-METROPOLITAN TRANSIT AUTHORITY</td>\n      <td>167411.18</td>\n      <td>0.0</td>\n      <td>400184.25</td>\n      <td>NaN</td>\n      <td>567595.43</td>\n      <td>567595.43</td>\n      <td>2011</td>\n    </tr>\n    <tr>\n      <th>1</th>\n      <td>GARY JIMENEZ</td>\n      <td>CAPTAIN III (POLICE DEPARTMENT)</td>\n      <td>155966.02</td>\n      <td>245131.88</td>\n      <td>137811.38</td>\n      <td>NaN</td>\n      <td>538909.28</td>\n      <td>538909.28</td>\n      <td>2011</td>\n    </tr>\n    <tr>\n      <th>2</th>\n      <td>ALBERT PARDINI</td>\n      <td>CAPTAIN III (POLICE DEPARTMENT)</td>\n      <td>212739.13</td>\n      <td>106088.18</td>\n      <td>16452.6</td>\n      <td>NaN</td>\n      <td>335279.91</td>\n      <td>335279.91</td>\n      <td>2011</td>\n    </tr>\n    <tr>\n      <th>3</th>\n      <td>CHRISTOPHER CHONG</td>\n      <td>WIRE ROPE CABLE MAINTENANCE MECHANIC</td>\n      <td>77916.0</td>\n      <td>56120.71</td>\n      <td>198306.9</td>\n      <td>NaN</td>\n      <td>332343.61</td>\n      <td>332343.61</td>\n      <td>2011</td>\n    </tr>\n    <tr>\n      <th>4</th>\n      <td>PATRICK GARDNER</td>\n      <td>DEPUTY CHIEF OF DEPARTMENT,(FIRE DEPARTMENT)</td>\n      <td>134401.6</td>\n      <td>9737.0</td>\n      <td>182234.59</td>\n      <td>NaN</td>\n      <td>326373.19</td>\n      <td>326373.19</td>\n      <td>2011</td>\n    </tr>\n    <tr>\n      <th>...</th>\n      <td>...</td>\n      <td>...</td>\n      <td>...</td>\n      <td>...</td>\n      <td>...</td>\n      <td>...</td>\n      <td>...</td>\n      <td>...</td>\n      <td>...</td>\n    </tr>\n    <tr>\n      <th>148649</th>\n      <td>Roy I Tillery</td>\n      <td>Custodian</td>\n      <td>0.00</td>\n      <td>0.00</td>\n      <td>0.00</td>\n      <td>0.00</td>\n      <td>0.00</td>\n      <td>0.00</td>\n      <td>2014</td>\n    </tr>\n    <tr>\n      <th>148650</th>\n      <td>Not provided</td>\n      <td>Not provided</td>\n      <td>Not Provided</td>\n      <td>Not Provided</td>\n      <td>Not Provided</td>\n      <td>Not Provided</td>\n      <td>0.00</td>\n      <td>0.00</td>\n      <td>2014</td>\n    </tr>\n    <tr>\n      <th>148651</th>\n      <td>Not provided</td>\n      <td>Not provided</td>\n      <td>Not Provided</td>\n      <td>Not Provided</td>\n      <td>Not Provided</td>\n      <td>Not Provided</td>\n      <td>0.00</td>\n      <td>0.00</td>\n      <td>2014</td>\n    </tr>\n    <tr>\n      <th>148652</th>\n      <td>Not provided</td>\n      <td>Not provided</td>\n      <td>Not Provided</td>\n      <td>Not Provided</td>\n      <td>Not Provided</td>\n      <td>Not Provided</td>\n      <td>0.00</td>\n      <td>0.00</td>\n      <td>2014</td>\n    </tr>\n    <tr>\n      <th>148653</th>\n      <td>Joe Lopez</td>\n      <td>Counselor, Log Cabin Ranch</td>\n      <td>0.00</td>\n      <td>0.00</td>\n      <td>-618.13</td>\n      <td>0.00</td>\n      <td>-618.13</td>\n      <td>-618.13</td>\n      <td>2014</td>\n    </tr>\n  </tbody>\n</table>\n<p>148654 rows × 9 columns</p>\n</div>"
          },
          "metadata": {}
        }
      ],
      "execution_count": 8
    },
    {
      "cell_type": "markdown",
      "source": "### 7. Get Overall Statistics About The Dataframe",
      "metadata": {}
    },
    {
      "cell_type": "code",
      "source": "df.describe(include=\"all\")",
      "metadata": {
        "trusted": true
      },
      "outputs": [
        {
          "execution_count": 9,
          "output_type": "execute_result",
          "data": {
            "text/plain": "       EmployeeName          JobTitle   BasePay  OvertimePay  OtherPay  \\\ncount        148654            148654  148049.0     148654.0  148654.0   \nunique       110811              2159  109900.0      66555.0   84968.0   \ntop       Kevin Lee  Transit Operator       0.0          0.0       0.0   \nfreq             13              7036     875.0      66103.0   35218.0   \nmean            NaN               NaN       NaN          NaN       NaN   \nstd             NaN               NaN       NaN          NaN       NaN   \nmin             NaN               NaN       NaN          NaN       NaN   \n25%             NaN               NaN       NaN          NaN       NaN   \n50%             NaN               NaN       NaN          NaN       NaN   \n75%             NaN               NaN       NaN          NaN       NaN   \nmax             NaN               NaN       NaN          NaN       NaN   \n\n        Benefits       TotalPay  TotalPayBenefits           Year  \ncount   112495.0  148654.000000     148654.000000  148654.000000  \nunique   99635.0            NaN               NaN            NaN  \ntop          0.0            NaN               NaN            NaN  \nfreq      1053.0            NaN               NaN            NaN  \nmean         NaN   74768.321972      93692.554811    2012.522643  \nstd          NaN   50517.005274      62793.533483       1.117538  \nmin          NaN    -618.130000       -618.130000    2011.000000  \n25%          NaN   36168.995000      44065.650000    2012.000000  \n50%          NaN   71426.610000      92404.090000    2013.000000  \n75%          NaN  105839.135000     132876.450000    2014.000000  \nmax          NaN  567595.430000     567595.430000    2014.000000  ",
            "text/html": "<div>\n<style scoped>\n    .dataframe tbody tr th:only-of-type {\n        vertical-align: middle;\n    }\n\n    .dataframe tbody tr th {\n        vertical-align: top;\n    }\n\n    .dataframe thead th {\n        text-align: right;\n    }\n</style>\n<table border=\"1\" class=\"dataframe\">\n  <thead>\n    <tr style=\"text-align: right;\">\n      <th></th>\n      <th>EmployeeName</th>\n      <th>JobTitle</th>\n      <th>BasePay</th>\n      <th>OvertimePay</th>\n      <th>OtherPay</th>\n      <th>Benefits</th>\n      <th>TotalPay</th>\n      <th>TotalPayBenefits</th>\n      <th>Year</th>\n    </tr>\n  </thead>\n  <tbody>\n    <tr>\n      <th>count</th>\n      <td>148654</td>\n      <td>148654</td>\n      <td>148049.0</td>\n      <td>148654.0</td>\n      <td>148654.0</td>\n      <td>112495.0</td>\n      <td>148654.000000</td>\n      <td>148654.000000</td>\n      <td>148654.000000</td>\n    </tr>\n    <tr>\n      <th>unique</th>\n      <td>110811</td>\n      <td>2159</td>\n      <td>109900.0</td>\n      <td>66555.0</td>\n      <td>84968.0</td>\n      <td>99635.0</td>\n      <td>NaN</td>\n      <td>NaN</td>\n      <td>NaN</td>\n    </tr>\n    <tr>\n      <th>top</th>\n      <td>Kevin Lee</td>\n      <td>Transit Operator</td>\n      <td>0.0</td>\n      <td>0.0</td>\n      <td>0.0</td>\n      <td>0.0</td>\n      <td>NaN</td>\n      <td>NaN</td>\n      <td>NaN</td>\n    </tr>\n    <tr>\n      <th>freq</th>\n      <td>13</td>\n      <td>7036</td>\n      <td>875.0</td>\n      <td>66103.0</td>\n      <td>35218.0</td>\n      <td>1053.0</td>\n      <td>NaN</td>\n      <td>NaN</td>\n      <td>NaN</td>\n    </tr>\n    <tr>\n      <th>mean</th>\n      <td>NaN</td>\n      <td>NaN</td>\n      <td>NaN</td>\n      <td>NaN</td>\n      <td>NaN</td>\n      <td>NaN</td>\n      <td>74768.321972</td>\n      <td>93692.554811</td>\n      <td>2012.522643</td>\n    </tr>\n    <tr>\n      <th>std</th>\n      <td>NaN</td>\n      <td>NaN</td>\n      <td>NaN</td>\n      <td>NaN</td>\n      <td>NaN</td>\n      <td>NaN</td>\n      <td>50517.005274</td>\n      <td>62793.533483</td>\n      <td>1.117538</td>\n    </tr>\n    <tr>\n      <th>min</th>\n      <td>NaN</td>\n      <td>NaN</td>\n      <td>NaN</td>\n      <td>NaN</td>\n      <td>NaN</td>\n      <td>NaN</td>\n      <td>-618.130000</td>\n      <td>-618.130000</td>\n      <td>2011.000000</td>\n    </tr>\n    <tr>\n      <th>25%</th>\n      <td>NaN</td>\n      <td>NaN</td>\n      <td>NaN</td>\n      <td>NaN</td>\n      <td>NaN</td>\n      <td>NaN</td>\n      <td>36168.995000</td>\n      <td>44065.650000</td>\n      <td>2012.000000</td>\n    </tr>\n    <tr>\n      <th>50%</th>\n      <td>NaN</td>\n      <td>NaN</td>\n      <td>NaN</td>\n      <td>NaN</td>\n      <td>NaN</td>\n      <td>NaN</td>\n      <td>71426.610000</td>\n      <td>92404.090000</td>\n      <td>2013.000000</td>\n    </tr>\n    <tr>\n      <th>75%</th>\n      <td>NaN</td>\n      <td>NaN</td>\n      <td>NaN</td>\n      <td>NaN</td>\n      <td>NaN</td>\n      <td>NaN</td>\n      <td>105839.135000</td>\n      <td>132876.450000</td>\n      <td>2014.000000</td>\n    </tr>\n    <tr>\n      <th>max</th>\n      <td>NaN</td>\n      <td>NaN</td>\n      <td>NaN</td>\n      <td>NaN</td>\n      <td>NaN</td>\n      <td>NaN</td>\n      <td>567595.430000</td>\n      <td>567595.430000</td>\n      <td>2014.000000</td>\n    </tr>\n  </tbody>\n</table>\n</div>"
          },
          "metadata": {}
        }
      ],
      "execution_count": 9
    },
    {
      "cell_type": "markdown",
      "source": "### 8. Find Occurrence of The Employee Names  (Top 5)",
      "metadata": {}
    },
    {
      "cell_type": "code",
      "source": "df[\"EmployeeName\"].value_counts().head(5)",
      "metadata": {
        "trusted": true
      },
      "outputs": [
        {
          "execution_count": 10,
          "output_type": "execute_result",
          "data": {
            "text/plain": "Kevin Lee       13\nRichard Lee     11\nSteven Lee      11\nWilliam Wong    11\nStanley Lee      9\nName: EmployeeName, dtype: int64"
          },
          "metadata": {}
        }
      ],
      "execution_count": 10
    },
    {
      "cell_type": "markdown",
      "source": "### 9. Find The Number of Unique Job Titles",
      "metadata": {}
    },
    {
      "cell_type": "code",
      "source": "df[\"JobTitle\"].unique()",
      "metadata": {
        "trusted": true
      },
      "outputs": [
        {
          "execution_count": 11,
          "output_type": "execute_result",
          "data": {
            "text/plain": "array(['GENERAL MANAGER-METROPOLITAN TRANSIT AUTHORITY',\n       'CAPTAIN III (POLICE DEPARTMENT)',\n       'WIRE ROPE CABLE MAINTENANCE MECHANIC', ..., 'Conversion',\n       'Cashier 3', 'Not provided'], dtype=object)"
          },
          "metadata": {}
        }
      ],
      "execution_count": 11
    },
    {
      "cell_type": "markdown",
      "source": "### 10. Total Number of Job Titles Contain Captain",
      "metadata": {}
    },
    {
      "cell_type": "code",
      "source": "sum(df[\"JobTitle\"].str.contains(\"CAPTAIN\",case=False))",
      "metadata": {
        "trusted": true
      },
      "outputs": [
        {
          "execution_count": 12,
          "output_type": "execute_result",
          "data": {
            "text/plain": "552"
          },
          "metadata": {}
        }
      ],
      "execution_count": 12
    },
    {
      "cell_type": "markdown",
      "source": "### 11. Display All the Employee Names From Fire Department",
      "metadata": {}
    },
    {
      "cell_type": "code",
      "source": "df[df[\"JobTitle\"].str.contains(\"FIRE\",case=False)][\"EmployeeName\"]",
      "metadata": {
        "trusted": true
      },
      "outputs": [
        {
          "execution_count": 13,
          "output_type": "execute_result",
          "data": {
            "text/plain": "4            PATRICK GARDNER\n6                  ALSON LEE\n8             MICHAEL MORRIS\n9         JOANNE HAYES-WHITE\n10             ARTHUR KENNEY\n                 ...        \n145956      Kenneth C Farris\n147556         Edward A Dunn\n148021        Kari A Johnson\n148209          Sheryl K Lee\n148554       Lawrence F Gatt\nName: EmployeeName, Length: 5879, dtype: object"
          },
          "metadata": {}
        }
      ],
      "execution_count": 13
    },
    {
      "cell_type": "markdown",
      "source": "### 12. Find Minimum, Maximum and Average BasePay",
      "metadata": {}
    },
    {
      "cell_type": "code",
      "source": "df[\"BasePay\"].describe()",
      "metadata": {
        "trusted": true
      },
      "outputs": [
        {
          "execution_count": 14,
          "output_type": "execute_result",
          "data": {
            "text/plain": "count     148049.0\nunique    109900.0\ntop            0.0\nfreq         875.0\nName: BasePay, dtype: float64"
          },
          "metadata": {}
        }
      ],
      "execution_count": 14
    },
    {
      "cell_type": "markdown",
      "source": "### 13. Replace 'Not Provided' in EmployeeName' Column to NaN ",
      "metadata": {}
    },
    {
      "cell_type": "code",
      "source": "import numpy as np\ndf[\"EmployeeName\"]=df[\"EmployeeName\"].replace(\"Not provided\",np.nan,)\ndf",
      "metadata": {
        "trusted": true
      },
      "outputs": [
        {
          "execution_count": 15,
          "output_type": "execute_result",
          "data": {
            "text/plain": "             EmployeeName                                        JobTitle  \\\n0          NATHANIEL FORD  GENERAL MANAGER-METROPOLITAN TRANSIT AUTHORITY   \n1            GARY JIMENEZ                 CAPTAIN III (POLICE DEPARTMENT)   \n2          ALBERT PARDINI                 CAPTAIN III (POLICE DEPARTMENT)   \n3       CHRISTOPHER CHONG            WIRE ROPE CABLE MAINTENANCE MECHANIC   \n4         PATRICK GARDNER    DEPUTY CHIEF OF DEPARTMENT,(FIRE DEPARTMENT)   \n...                   ...                                             ...   \n148649      Roy I Tillery                                       Custodian   \n148650                NaN                                    Not provided   \n148651                NaN                                    Not provided   \n148652                NaN                                    Not provided   \n148653          Joe Lopez                      Counselor, Log Cabin Ranch   \n\n             BasePay   OvertimePay      OtherPay      Benefits   TotalPay  \\\n0          167411.18           0.0     400184.25           NaN  567595.43   \n1          155966.02     245131.88     137811.38           NaN  538909.28   \n2          212739.13     106088.18       16452.6           NaN  335279.91   \n3            77916.0      56120.71      198306.9           NaN  332343.61   \n4           134401.6        9737.0     182234.59           NaN  326373.19   \n...              ...           ...           ...           ...        ...   \n148649          0.00          0.00          0.00          0.00       0.00   \n148650  Not Provided  Not Provided  Not Provided  Not Provided       0.00   \n148651  Not Provided  Not Provided  Not Provided  Not Provided       0.00   \n148652  Not Provided  Not Provided  Not Provided  Not Provided       0.00   \n148653          0.00          0.00       -618.13          0.00    -618.13   \n\n        TotalPayBenefits  Year  \n0              567595.43  2011  \n1              538909.28  2011  \n2              335279.91  2011  \n3              332343.61  2011  \n4              326373.19  2011  \n...                  ...   ...  \n148649              0.00  2014  \n148650              0.00  2014  \n148651              0.00  2014  \n148652              0.00  2014  \n148653           -618.13  2014  \n\n[148654 rows x 9 columns]",
            "text/html": "<div>\n<style scoped>\n    .dataframe tbody tr th:only-of-type {\n        vertical-align: middle;\n    }\n\n    .dataframe tbody tr th {\n        vertical-align: top;\n    }\n\n    .dataframe thead th {\n        text-align: right;\n    }\n</style>\n<table border=\"1\" class=\"dataframe\">\n  <thead>\n    <tr style=\"text-align: right;\">\n      <th></th>\n      <th>EmployeeName</th>\n      <th>JobTitle</th>\n      <th>BasePay</th>\n      <th>OvertimePay</th>\n      <th>OtherPay</th>\n      <th>Benefits</th>\n      <th>TotalPay</th>\n      <th>TotalPayBenefits</th>\n      <th>Year</th>\n    </tr>\n  </thead>\n  <tbody>\n    <tr>\n      <th>0</th>\n      <td>NATHANIEL FORD</td>\n      <td>GENERAL MANAGER-METROPOLITAN TRANSIT AUTHORITY</td>\n      <td>167411.18</td>\n      <td>0.0</td>\n      <td>400184.25</td>\n      <td>NaN</td>\n      <td>567595.43</td>\n      <td>567595.43</td>\n      <td>2011</td>\n    </tr>\n    <tr>\n      <th>1</th>\n      <td>GARY JIMENEZ</td>\n      <td>CAPTAIN III (POLICE DEPARTMENT)</td>\n      <td>155966.02</td>\n      <td>245131.88</td>\n      <td>137811.38</td>\n      <td>NaN</td>\n      <td>538909.28</td>\n      <td>538909.28</td>\n      <td>2011</td>\n    </tr>\n    <tr>\n      <th>2</th>\n      <td>ALBERT PARDINI</td>\n      <td>CAPTAIN III (POLICE DEPARTMENT)</td>\n      <td>212739.13</td>\n      <td>106088.18</td>\n      <td>16452.6</td>\n      <td>NaN</td>\n      <td>335279.91</td>\n      <td>335279.91</td>\n      <td>2011</td>\n    </tr>\n    <tr>\n      <th>3</th>\n      <td>CHRISTOPHER CHONG</td>\n      <td>WIRE ROPE CABLE MAINTENANCE MECHANIC</td>\n      <td>77916.0</td>\n      <td>56120.71</td>\n      <td>198306.9</td>\n      <td>NaN</td>\n      <td>332343.61</td>\n      <td>332343.61</td>\n      <td>2011</td>\n    </tr>\n    <tr>\n      <th>4</th>\n      <td>PATRICK GARDNER</td>\n      <td>DEPUTY CHIEF OF DEPARTMENT,(FIRE DEPARTMENT)</td>\n      <td>134401.6</td>\n      <td>9737.0</td>\n      <td>182234.59</td>\n      <td>NaN</td>\n      <td>326373.19</td>\n      <td>326373.19</td>\n      <td>2011</td>\n    </tr>\n    <tr>\n      <th>...</th>\n      <td>...</td>\n      <td>...</td>\n      <td>...</td>\n      <td>...</td>\n      <td>...</td>\n      <td>...</td>\n      <td>...</td>\n      <td>...</td>\n      <td>...</td>\n    </tr>\n    <tr>\n      <th>148649</th>\n      <td>Roy I Tillery</td>\n      <td>Custodian</td>\n      <td>0.00</td>\n      <td>0.00</td>\n      <td>0.00</td>\n      <td>0.00</td>\n      <td>0.00</td>\n      <td>0.00</td>\n      <td>2014</td>\n    </tr>\n    <tr>\n      <th>148650</th>\n      <td>NaN</td>\n      <td>Not provided</td>\n      <td>Not Provided</td>\n      <td>Not Provided</td>\n      <td>Not Provided</td>\n      <td>Not Provided</td>\n      <td>0.00</td>\n      <td>0.00</td>\n      <td>2014</td>\n    </tr>\n    <tr>\n      <th>148651</th>\n      <td>NaN</td>\n      <td>Not provided</td>\n      <td>Not Provided</td>\n      <td>Not Provided</td>\n      <td>Not Provided</td>\n      <td>Not Provided</td>\n      <td>0.00</td>\n      <td>0.00</td>\n      <td>2014</td>\n    </tr>\n    <tr>\n      <th>148652</th>\n      <td>NaN</td>\n      <td>Not provided</td>\n      <td>Not Provided</td>\n      <td>Not Provided</td>\n      <td>Not Provided</td>\n      <td>Not Provided</td>\n      <td>0.00</td>\n      <td>0.00</td>\n      <td>2014</td>\n    </tr>\n    <tr>\n      <th>148653</th>\n      <td>Joe Lopez</td>\n      <td>Counselor, Log Cabin Ranch</td>\n      <td>0.00</td>\n      <td>0.00</td>\n      <td>-618.13</td>\n      <td>0.00</td>\n      <td>-618.13</td>\n      <td>-618.13</td>\n      <td>2014</td>\n    </tr>\n  </tbody>\n</table>\n<p>148654 rows × 9 columns</p>\n</div>"
          },
          "metadata": {}
        }
      ],
      "execution_count": 15
    },
    {
      "cell_type": "markdown",
      "source": "### 14. Drop The Rows Having 5 Missing Values",
      "metadata": {}
    },
    {
      "cell_type": "code",
      "source": "df=df.replace(\"Not Provided\",np.nan)",
      "metadata": {
        "trusted": true
      },
      "outputs": [],
      "execution_count": 16
    },
    {
      "cell_type": "code",
      "source": "df = df.drop(df[df.isna().sum(axis = 1)==5].index,axis=0)\ndf",
      "metadata": {
        "trusted": true
      },
      "outputs": [
        {
          "execution_count": 17,
          "output_type": "execute_result",
          "data": {
            "text/plain": "             EmployeeName                                        JobTitle  \\\n0          NATHANIEL FORD  GENERAL MANAGER-METROPOLITAN TRANSIT AUTHORITY   \n1            GARY JIMENEZ                 CAPTAIN III (POLICE DEPARTMENT)   \n2          ALBERT PARDINI                 CAPTAIN III (POLICE DEPARTMENT)   \n3       CHRISTOPHER CHONG            WIRE ROPE CABLE MAINTENANCE MECHANIC   \n4         PATRICK GARDNER    DEPUTY CHIEF OF DEPARTMENT,(FIRE DEPARTMENT)   \n...                   ...                                             ...   \n148645   Carolyn A Wilson                       Human Services Technician   \n148647     Joann Anderson                     Communications Dispatcher 2   \n148648        Leon Walker                                       Custodian   \n148649      Roy I Tillery                                       Custodian   \n148653          Joe Lopez                      Counselor, Log Cabin Ranch   \n\n          BasePay OvertimePay   OtherPay Benefits   TotalPay  \\\n0       167411.18         0.0  400184.25      NaN  567595.43   \n1       155966.02   245131.88  137811.38      NaN  538909.28   \n2       212739.13   106088.18    16452.6      NaN  335279.91   \n3         77916.0    56120.71   198306.9      NaN  332343.61   \n4        134401.6      9737.0  182234.59      NaN  326373.19   \n...           ...         ...        ...      ...        ...   \n148645       0.00        0.00       0.00     0.00       0.00   \n148647       0.00        0.00       0.00     0.00       0.00   \n148648       0.00        0.00       0.00     0.00       0.00   \n148649       0.00        0.00       0.00     0.00       0.00   \n148653       0.00        0.00    -618.13     0.00    -618.13   \n\n        TotalPayBenefits  Year  \n0              567595.43  2011  \n1              538909.28  2011  \n2              335279.91  2011  \n3              332343.61  2011  \n4              326373.19  2011  \n...                  ...   ...  \n148645              0.00  2014  \n148647              0.00  2014  \n148648              0.00  2014  \n148649              0.00  2014  \n148653           -618.13  2014  \n\n[148650 rows x 9 columns]",
            "text/html": "<div>\n<style scoped>\n    .dataframe tbody tr th:only-of-type {\n        vertical-align: middle;\n    }\n\n    .dataframe tbody tr th {\n        vertical-align: top;\n    }\n\n    .dataframe thead th {\n        text-align: right;\n    }\n</style>\n<table border=\"1\" class=\"dataframe\">\n  <thead>\n    <tr style=\"text-align: right;\">\n      <th></th>\n      <th>EmployeeName</th>\n      <th>JobTitle</th>\n      <th>BasePay</th>\n      <th>OvertimePay</th>\n      <th>OtherPay</th>\n      <th>Benefits</th>\n      <th>TotalPay</th>\n      <th>TotalPayBenefits</th>\n      <th>Year</th>\n    </tr>\n  </thead>\n  <tbody>\n    <tr>\n      <th>0</th>\n      <td>NATHANIEL FORD</td>\n      <td>GENERAL MANAGER-METROPOLITAN TRANSIT AUTHORITY</td>\n      <td>167411.18</td>\n      <td>0.0</td>\n      <td>400184.25</td>\n      <td>NaN</td>\n      <td>567595.43</td>\n      <td>567595.43</td>\n      <td>2011</td>\n    </tr>\n    <tr>\n      <th>1</th>\n      <td>GARY JIMENEZ</td>\n      <td>CAPTAIN III (POLICE DEPARTMENT)</td>\n      <td>155966.02</td>\n      <td>245131.88</td>\n      <td>137811.38</td>\n      <td>NaN</td>\n      <td>538909.28</td>\n      <td>538909.28</td>\n      <td>2011</td>\n    </tr>\n    <tr>\n      <th>2</th>\n      <td>ALBERT PARDINI</td>\n      <td>CAPTAIN III (POLICE DEPARTMENT)</td>\n      <td>212739.13</td>\n      <td>106088.18</td>\n      <td>16452.6</td>\n      <td>NaN</td>\n      <td>335279.91</td>\n      <td>335279.91</td>\n      <td>2011</td>\n    </tr>\n    <tr>\n      <th>3</th>\n      <td>CHRISTOPHER CHONG</td>\n      <td>WIRE ROPE CABLE MAINTENANCE MECHANIC</td>\n      <td>77916.0</td>\n      <td>56120.71</td>\n      <td>198306.9</td>\n      <td>NaN</td>\n      <td>332343.61</td>\n      <td>332343.61</td>\n      <td>2011</td>\n    </tr>\n    <tr>\n      <th>4</th>\n      <td>PATRICK GARDNER</td>\n      <td>DEPUTY CHIEF OF DEPARTMENT,(FIRE DEPARTMENT)</td>\n      <td>134401.6</td>\n      <td>9737.0</td>\n      <td>182234.59</td>\n      <td>NaN</td>\n      <td>326373.19</td>\n      <td>326373.19</td>\n      <td>2011</td>\n    </tr>\n    <tr>\n      <th>...</th>\n      <td>...</td>\n      <td>...</td>\n      <td>...</td>\n      <td>...</td>\n      <td>...</td>\n      <td>...</td>\n      <td>...</td>\n      <td>...</td>\n      <td>...</td>\n    </tr>\n    <tr>\n      <th>148645</th>\n      <td>Carolyn A Wilson</td>\n      <td>Human Services Technician</td>\n      <td>0.00</td>\n      <td>0.00</td>\n      <td>0.00</td>\n      <td>0.00</td>\n      <td>0.00</td>\n      <td>0.00</td>\n      <td>2014</td>\n    </tr>\n    <tr>\n      <th>148647</th>\n      <td>Joann Anderson</td>\n      <td>Communications Dispatcher 2</td>\n      <td>0.00</td>\n      <td>0.00</td>\n      <td>0.00</td>\n      <td>0.00</td>\n      <td>0.00</td>\n      <td>0.00</td>\n      <td>2014</td>\n    </tr>\n    <tr>\n      <th>148648</th>\n      <td>Leon Walker</td>\n      <td>Custodian</td>\n      <td>0.00</td>\n      <td>0.00</td>\n      <td>0.00</td>\n      <td>0.00</td>\n      <td>0.00</td>\n      <td>0.00</td>\n      <td>2014</td>\n    </tr>\n    <tr>\n      <th>148649</th>\n      <td>Roy I Tillery</td>\n      <td>Custodian</td>\n      <td>0.00</td>\n      <td>0.00</td>\n      <td>0.00</td>\n      <td>0.00</td>\n      <td>0.00</td>\n      <td>0.00</td>\n      <td>2014</td>\n    </tr>\n    <tr>\n      <th>148653</th>\n      <td>Joe Lopez</td>\n      <td>Counselor, Log Cabin Ranch</td>\n      <td>0.00</td>\n      <td>0.00</td>\n      <td>-618.13</td>\n      <td>0.00</td>\n      <td>-618.13</td>\n      <td>-618.13</td>\n      <td>2014</td>\n    </tr>\n  </tbody>\n</table>\n<p>148650 rows × 9 columns</p>\n</div>"
          },
          "metadata": {}
        }
      ],
      "execution_count": 17
    },
    {
      "cell_type": "markdown",
      "source": "### 15. Find Job Title of ALBERT PARDINI",
      "metadata": {}
    },
    {
      "cell_type": "code",
      "source": "df[df[\"EmployeeName\"]==\"ALBERT PARDINI\"][\"JobTitle\"]",
      "metadata": {
        "trusted": true
      },
      "outputs": [
        {
          "execution_count": 18,
          "output_type": "execute_result",
          "data": {
            "text/plain": "2    CAPTAIN III (POLICE DEPARTMENT)\nName: JobTitle, dtype: object"
          },
          "metadata": {}
        }
      ],
      "execution_count": 18
    },
    {
      "cell_type": "markdown",
      "source": "### 16. How Much ALBERT PARDINI Make (Include Benefits) ? ",
      "metadata": {}
    },
    {
      "cell_type": "code",
      "source": "df[df[\"EmployeeName\"]==\"ALBERT PARDINI\"][\"TotalPayBenefits\"]",
      "metadata": {
        "trusted": true
      },
      "outputs": [
        {
          "execution_count": 19,
          "output_type": "execute_result",
          "data": {
            "text/plain": "2    335279.91\nName: TotalPayBenefits, dtype: float64"
          },
          "metadata": {}
        }
      ],
      "execution_count": 19
    },
    {
      "cell_type": "markdown",
      "source": "### 17. Find Average BasePay of All Employee Per Year ",
      "metadata": {}
    },
    {
      "cell_type": "code",
      "source": "df['BasePay'].fillna(0, inplace=True)\ndf['BasePay'] = pd.to_numeric(df['BasePay'], errors='coerce')\n\ndf['BasePay'].fillna(0, inplace=True)\n\ndf['BasePay'] = df['BasePay'].astype(int)\n\ndf.groupby('Year')['BasePay'].mean()\n",
      "metadata": {
        "trusted": true
      },
      "outputs": [
        {
          "execution_count": 35,
          "output_type": "execute_result",
          "data": {
            "text/plain": "Year\n2011    63595.525872\n2012    65435.992819\n2013    68509.468888\n2014    66564.085390\nName: BasePay, dtype: float64"
          },
          "metadata": {}
        }
      ],
      "execution_count": 35
    },
    {
      "cell_type": "markdown",
      "source": "### 18. Display Name of The Person Having The Highest BasePay",
      "metadata": {}
    },
    {
      "cell_type": "code",
      "source": "df.sort_values(by='BasePay', ascending=False).head(1)[\"EmployeeName\"]",
      "metadata": {
        "trusted": true
      },
      "outputs": [
        {
          "execution_count": 43,
          "output_type": "execute_result",
          "data": {
            "text/plain": "72925    Gregory P Suhr\nName: EmployeeName, dtype: object"
          },
          "metadata": {}
        }
      ],
      "execution_count": 43
    },
    {
      "cell_type": "markdown",
      "source": "### 19. Find Average BasePay of All Employee Per JobTitle ",
      "metadata": {}
    },
    {
      "cell_type": "code",
      "source": "df.groupby(\"JobTitle\")[\"BasePay\"].mean()",
      "metadata": {
        "trusted": true
      },
      "outputs": [
        {
          "execution_count": 44,
          "output_type": "execute_result",
          "data": {
            "text/plain": "JobTitle\nACCOUNT CLERK                                     43300.144578\nACCOUNTANT                                        46643.000000\nACCOUNTANT INTERN                                 28732.229167\nACPO,JuvP, Juv Prob (SFERS)                       62290.000000\nACUPUNCTURIST                                     66374.000000\n                                                      ...     \nX-RAY LABORATORY AIDE                             47664.230769\nX-Ray Laboratory Aide                             46085.970000\nYOUTH COMMISSION ADVISOR, BOARD OF SUPERVISORS    52609.000000\nYouth Comm Advisor                                39077.250000\nZOO CURATOR                                       43148.000000\nName: BasePay, Length: 2158, dtype: float64"
          },
          "metadata": {}
        }
      ],
      "execution_count": 44
    },
    {
      "cell_type": "markdown",
      "source": "### 20. Find Average BasePay of Employee Having Job Title ACCOUNTANT  ",
      "metadata": {}
    },
    {
      "cell_type": "code",
      "source": "df[df[\"JobTitle\"]==\"ACCOUNTANT\"][\"BasePay\"].mean()",
      "metadata": {
        "trusted": true
      },
      "outputs": [
        {
          "execution_count": 67,
          "output_type": "execute_result",
          "data": {
            "text/plain": "46643.0"
          },
          "metadata": {}
        }
      ],
      "execution_count": 67
    },
    {
      "cell_type": "markdown",
      "source": "### 21. Find Top 5 Most Common Jobs",
      "metadata": {}
    },
    {
      "cell_type": "code",
      "source": "df[\"JobTitle\"].value_counts().head(5)",
      "metadata": {
        "trusted": true
      },
      "outputs": [
        {
          "execution_count": 70,
          "output_type": "execute_result",
          "data": {
            "text/plain": "Transit Operator                7036\nSpecial Nurse                   4389\nRegistered Nurse                3736\nPublic Svc Aide-Public Works    2518\nPolice Officer 3                2421\nName: JobTitle, dtype: int64"
          },
          "metadata": {}
        }
      ],
      "execution_count": 70
    },
    {
      "cell_type": "code",
      "source": "",
      "metadata": {
        "trusted": true
      },
      "outputs": [],
      "execution_count": null
    }
  ]
}