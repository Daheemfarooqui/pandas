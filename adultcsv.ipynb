{
  "metadata": {
    "kernelspec": {
      "name": "python",
      "display_name": "Python (Pyodide)",
      "language": "python"
    },
    "language_info": {
      "codemirror_mode": {
        "name": "python",
        "version": 3
      },
      "file_extension": ".py",
      "mimetype": "text/x-python",
      "name": "python",
      "nbconvert_exporter": "python",
      "pygments_lexer": "ipython3",
      "version": "3.8"
    }
  },
  "nbformat_minor": 4,
  "nbformat": 4,
  "cells": [
    {
      "cell_type": "code",
      "source": "import pandas as pd",
      "metadata": {
        "trusted": true
      },
      "outputs": [],
      "execution_count": 24
    },
    {
      "cell_type": "code",
      "source": "\ndf= pd.read_csv((\"adult.csv\"))\ndf.head()",
      "metadata": {
        "trusted": true
      },
      "outputs": [
        {
          "execution_count": 140,
          "output_type": "execute_result",
          "data": {
            "text/plain": "   age  workclass  fnlwgt     education  educational-num      marital-status  \\\n0   25    Private  226802          11th                7       Never-married   \n1   38    Private   89814       HS-grad                9  Married-civ-spouse   \n2   28  Local-gov  336951    Assoc-acdm               12  Married-civ-spouse   \n3   44    Private  160323  Some-college               10  Married-civ-spouse   \n4   18          ?  103497  Some-college               10       Never-married   \n\n          occupation relationship   race  gender  capital-gain  capital-loss  \\\n0  Machine-op-inspct    Own-child  Black    Male             0             0   \n1    Farming-fishing      Husband  White    Male             0             0   \n2    Protective-serv      Husband  White    Male             0             0   \n3  Machine-op-inspct      Husband  Black    Male          7688             0   \n4                  ?    Own-child  White  Female             0             0   \n\n   hours-per-week native-country income  \n0              40  United-States  <=50K  \n1              50  United-States  <=50K  \n2              40  United-States   >50K  \n3              40  United-States   >50K  \n4              30  United-States  <=50K  ",
            "text/html": "<div>\n<style scoped>\n    .dataframe tbody tr th:only-of-type {\n        vertical-align: middle;\n    }\n\n    .dataframe tbody tr th {\n        vertical-align: top;\n    }\n\n    .dataframe thead th {\n        text-align: right;\n    }\n</style>\n<table border=\"1\" class=\"dataframe\">\n  <thead>\n    <tr style=\"text-align: right;\">\n      <th></th>\n      <th>age</th>\n      <th>workclass</th>\n      <th>fnlwgt</th>\n      <th>education</th>\n      <th>educational-num</th>\n      <th>marital-status</th>\n      <th>occupation</th>\n      <th>relationship</th>\n      <th>race</th>\n      <th>gender</th>\n      <th>capital-gain</th>\n      <th>capital-loss</th>\n      <th>hours-per-week</th>\n      <th>native-country</th>\n      <th>income</th>\n    </tr>\n  </thead>\n  <tbody>\n    <tr>\n      <th>0</th>\n      <td>25</td>\n      <td>Private</td>\n      <td>226802</td>\n      <td>11th</td>\n      <td>7</td>\n      <td>Never-married</td>\n      <td>Machine-op-inspct</td>\n      <td>Own-child</td>\n      <td>Black</td>\n      <td>Male</td>\n      <td>0</td>\n      <td>0</td>\n      <td>40</td>\n      <td>United-States</td>\n      <td>&lt;=50K</td>\n    </tr>\n    <tr>\n      <th>1</th>\n      <td>38</td>\n      <td>Private</td>\n      <td>89814</td>\n      <td>HS-grad</td>\n      <td>9</td>\n      <td>Married-civ-spouse</td>\n      <td>Farming-fishing</td>\n      <td>Husband</td>\n      <td>White</td>\n      <td>Male</td>\n      <td>0</td>\n      <td>0</td>\n      <td>50</td>\n      <td>United-States</td>\n      <td>&lt;=50K</td>\n    </tr>\n    <tr>\n      <th>2</th>\n      <td>28</td>\n      <td>Local-gov</td>\n      <td>336951</td>\n      <td>Assoc-acdm</td>\n      <td>12</td>\n      <td>Married-civ-spouse</td>\n      <td>Protective-serv</td>\n      <td>Husband</td>\n      <td>White</td>\n      <td>Male</td>\n      <td>0</td>\n      <td>0</td>\n      <td>40</td>\n      <td>United-States</td>\n      <td>&gt;50K</td>\n    </tr>\n    <tr>\n      <th>3</th>\n      <td>44</td>\n      <td>Private</td>\n      <td>160323</td>\n      <td>Some-college</td>\n      <td>10</td>\n      <td>Married-civ-spouse</td>\n      <td>Machine-op-inspct</td>\n      <td>Husband</td>\n      <td>Black</td>\n      <td>Male</td>\n      <td>7688</td>\n      <td>0</td>\n      <td>40</td>\n      <td>United-States</td>\n      <td>&gt;50K</td>\n    </tr>\n    <tr>\n      <th>4</th>\n      <td>18</td>\n      <td>?</td>\n      <td>103497</td>\n      <td>Some-college</td>\n      <td>10</td>\n      <td>Never-married</td>\n      <td>?</td>\n      <td>Own-child</td>\n      <td>White</td>\n      <td>Female</td>\n      <td>0</td>\n      <td>0</td>\n      <td>30</td>\n      <td>United-States</td>\n      <td>&lt;=50K</td>\n    </tr>\n  </tbody>\n</table>\n</div>"
          },
          "metadata": {}
        }
      ],
      "execution_count": 140
    },
    {
      "cell_type": "markdown",
      "source": " ## Data Cleaning Questions\n\n ### Handling Missing Values\n ",
      "metadata": {}
    },
    {
      "cell_type": "code",
      "source": " # Identify columns with missing values.\ndf.isna().sum()",
      "metadata": {
        "trusted": true
      },
      "outputs": [
        {
          "execution_count": 141,
          "output_type": "execute_result",
          "data": {
            "text/plain": "age                0\nworkclass          0\nfnlwgt             0\neducation          0\neducational-num    0\nmarital-status     0\noccupation         0\nrelationship       0\nrace               0\ngender             0\ncapital-gain       0\ncapital-loss       0\nhours-per-week     0\nnative-country     0\nincome             0\ndtype: int64"
          },
          "metadata": {}
        }
      ],
      "execution_count": 141
    },
    {
      "cell_type": "code",
      "source": "# cheaking datatype\ndf.dtypes",
      "metadata": {
        "trusted": true
      },
      "outputs": [
        {
          "execution_count": 142,
          "output_type": "execute_result",
          "data": {
            "text/plain": "age                 int64\nworkclass          object\nfnlwgt              int64\neducation          object\neducational-num     int64\nmarital-status     object\noccupation         object\nrelationship       object\nrace               object\ngender             object\ncapital-gain        int64\ncapital-loss        int64\nhours-per-week      int64\nnative-country     object\nincome             object\ndtype: object"
          },
          "metadata": {}
        }
      ],
      "execution_count": 142
    },
    {
      "cell_type": "code",
      "source": "df.info()",
      "metadata": {
        "trusted": true
      },
      "outputs": [
        {
          "name": "stdout",
          "text": "<class 'pandas.core.frame.DataFrame'>\nRangeIndex: 48842 entries, 0 to 48841\nData columns (total 14 columns):\n #   Column           Non-Null Count  Dtype \n---  ------           --------------  ----- \n 0   age              48842 non-null  int64 \n 1   workclass        48842 non-null  object\n 2   education        48842 non-null  object\n 3   educational-num  48842 non-null  int64 \n 4   marital-status   48842 non-null  object\n 5   occupation       48842 non-null  object\n 6   relationship     48842 non-null  object\n 7   race             48842 non-null  object\n 8   gender           48842 non-null  object\n 9   capital-gain     48842 non-null  int64 \n 10  capital-loss     48842 non-null  int64 \n 11  hours-per-week   48842 non-null  int64 \n 12  native-country   48842 non-null  object\n 13  income           48842 non-null  object\ndtypes: int64(5), object(9)\nmemory usage: 3.5+ MB\n",
          "output_type": "stream"
        }
      ],
      "execution_count": 164
    },
    {
      "cell_type": "code",
      "source": "df.describe()",
      "metadata": {
        "trusted": true
      },
      "outputs": [
        {
          "execution_count": 165,
          "output_type": "execute_result",
          "data": {
            "text/plain": "                age  educational-num  capital-gain  capital-loss  \\\ncount  48842.000000     48842.000000  48842.000000  48842.000000   \nmean      38.643585        10.078089   1079.067626     87.502314   \nstd       13.710510         2.570973   7452.019058    403.004552   \nmin       17.000000         1.000000      0.000000      0.000000   \n25%       28.000000         9.000000      0.000000      0.000000   \n50%       37.000000        10.000000      0.000000      0.000000   \n75%       48.000000        12.000000      0.000000      0.000000   \nmax       90.000000        16.000000  99999.000000   4356.000000   \n\n       hours-per-week  \ncount    48842.000000  \nmean        40.422382  \nstd         12.391444  \nmin          1.000000  \n25%         40.000000  \n50%         40.000000  \n75%         45.000000  \nmax         99.000000  ",
            "text/html": "<div>\n<style scoped>\n    .dataframe tbody tr th:only-of-type {\n        vertical-align: middle;\n    }\n\n    .dataframe tbody tr th {\n        vertical-align: top;\n    }\n\n    .dataframe thead th {\n        text-align: right;\n    }\n</style>\n<table border=\"1\" class=\"dataframe\">\n  <thead>\n    <tr style=\"text-align: right;\">\n      <th></th>\n      <th>age</th>\n      <th>educational-num</th>\n      <th>capital-gain</th>\n      <th>capital-loss</th>\n      <th>hours-per-week</th>\n    </tr>\n  </thead>\n  <tbody>\n    <tr>\n      <th>count</th>\n      <td>48842.000000</td>\n      <td>48842.000000</td>\n      <td>48842.000000</td>\n      <td>48842.000000</td>\n      <td>48842.000000</td>\n    </tr>\n    <tr>\n      <th>mean</th>\n      <td>38.643585</td>\n      <td>10.078089</td>\n      <td>1079.067626</td>\n      <td>87.502314</td>\n      <td>40.422382</td>\n    </tr>\n    <tr>\n      <th>std</th>\n      <td>13.710510</td>\n      <td>2.570973</td>\n      <td>7452.019058</td>\n      <td>403.004552</td>\n      <td>12.391444</td>\n    </tr>\n    <tr>\n      <th>min</th>\n      <td>17.000000</td>\n      <td>1.000000</td>\n      <td>0.000000</td>\n      <td>0.000000</td>\n      <td>1.000000</td>\n    </tr>\n    <tr>\n      <th>25%</th>\n      <td>28.000000</td>\n      <td>9.000000</td>\n      <td>0.000000</td>\n      <td>0.000000</td>\n      <td>40.000000</td>\n    </tr>\n    <tr>\n      <th>50%</th>\n      <td>37.000000</td>\n      <td>10.000000</td>\n      <td>0.000000</td>\n      <td>0.000000</td>\n      <td>40.000000</td>\n    </tr>\n    <tr>\n      <th>75%</th>\n      <td>48.000000</td>\n      <td>12.000000</td>\n      <td>0.000000</td>\n      <td>0.000000</td>\n      <td>45.000000</td>\n    </tr>\n    <tr>\n      <th>max</th>\n      <td>90.000000</td>\n      <td>16.000000</td>\n      <td>99999.000000</td>\n      <td>4356.000000</td>\n      <td>99.000000</td>\n    </tr>\n  </tbody>\n</table>\n</div>"
          },
          "metadata": {}
        }
      ],
      "execution_count": 165
    },
    {
      "cell_type": "code",
      "source": "df['workclass'].unique()",
      "metadata": {
        "trusted": true
      },
      "outputs": [
        {
          "execution_count": 143,
          "output_type": "execute_result",
          "data": {
            "text/plain": "array(['Private', 'Local-gov', '?', 'Self-emp-not-inc', 'Federal-gov',\n       'State-gov', 'Self-emp-inc', 'Without-pay', 'Never-worked'],\n      dtype=object)"
          },
          "metadata": {}
        }
      ],
      "execution_count": 143
    },
    {
      "cell_type": "code",
      "source": "df.value_counts('workclass')",
      "metadata": {
        "trusted": true
      },
      "outputs": [
        {
          "execution_count": 144,
          "output_type": "execute_result",
          "data": {
            "text/plain": "workclass\nPrivate             33906\nSelf-emp-not-inc     3862\nLocal-gov            3136\n?                    2799\nState-gov            1981\nSelf-emp-inc         1695\nFederal-gov          1432\nWithout-pay            21\nNever-worked           10\ndtype: int64"
          },
          "metadata": {}
        }
      ],
      "execution_count": 144
    },
    {
      "cell_type": "code",
      "source": "df[\"workclass\"].replace(\"?\",\"Private\",inplace= True)\ndf.value_counts('workclass')",
      "metadata": {
        "trusted": true
      },
      "outputs": [
        {
          "execution_count": 145,
          "output_type": "execute_result",
          "data": {
            "text/plain": "workclass\nPrivate             36705\nSelf-emp-not-inc     3862\nLocal-gov            3136\nState-gov            1981\nSelf-emp-inc         1695\nFederal-gov          1432\nWithout-pay            21\nNever-worked           10\ndtype: int64"
          },
          "metadata": {}
        }
      ],
      "execution_count": 145
    },
    {
      "cell_type": "code",
      "source": "df[\"occupation\"].unique()",
      "metadata": {
        "trusted": true
      },
      "outputs": [
        {
          "execution_count": 146,
          "output_type": "execute_result",
          "data": {
            "text/plain": "array(['Machine-op-inspct', 'Farming-fishing', 'Protective-serv', '?',\n       'Other-service', 'Prof-specialty', 'Craft-repair', 'Adm-clerical',\n       'Exec-managerial', 'Tech-support', 'Sales', 'Priv-house-serv',\n       'Transport-moving', 'Handlers-cleaners', 'Armed-Forces'],\n      dtype=object)"
          },
          "metadata": {}
        }
      ],
      "execution_count": 146
    },
    {
      "cell_type": "code",
      "source": "df.value_counts(\"occupation\")",
      "metadata": {
        "trusted": true
      },
      "outputs": [
        {
          "execution_count": 147,
          "output_type": "execute_result",
          "data": {
            "text/plain": "occupation\nProf-specialty       6172\nCraft-repair         6112\nExec-managerial      6086\nAdm-clerical         5611\nSales                5504\nOther-service        4923\nMachine-op-inspct    3022\n?                    2809\nTransport-moving     2355\nHandlers-cleaners    2072\nFarming-fishing      1490\nTech-support         1446\nProtective-serv       983\nPriv-house-serv       242\nArmed-Forces           15\ndtype: int64"
          },
          "metadata": {}
        }
      ],
      "execution_count": 147
    },
    {
      "cell_type": "code",
      "source": "df[\"occupation\"].replace(\"?\",\"Prof-specialty\",inplace = True)\ndf.value_counts(\"occupation\")",
      "metadata": {
        "trusted": true
      },
      "outputs": [
        {
          "execution_count": 148,
          "output_type": "execute_result",
          "data": {
            "text/plain": "occupation\nProf-specialty       8981\nCraft-repair         6112\nExec-managerial      6086\nAdm-clerical         5611\nSales                5504\nOther-service        4923\nMachine-op-inspct    3022\nTransport-moving     2355\nHandlers-cleaners    2072\nFarming-fishing      1490\nTech-support         1446\nProtective-serv       983\nPriv-house-serv       242\nArmed-Forces           15\ndtype: int64"
          },
          "metadata": {}
        }
      ],
      "execution_count": 148
    },
    {
      "cell_type": "code",
      "source": "df[\"native-country\"].unique()",
      "metadata": {
        "trusted": true
      },
      "outputs": [
        {
          "execution_count": 149,
          "output_type": "execute_result",
          "data": {
            "text/plain": "array(['United-States', '?', 'Peru', 'Guatemala', 'Mexico',\n       'Dominican-Republic', 'Ireland', 'Germany', 'Philippines',\n       'Thailand', 'Haiti', 'El-Salvador', 'Puerto-Rico', 'Vietnam',\n       'South', 'Columbia', 'Japan', 'India', 'Cambodia', 'Poland',\n       'Laos', 'England', 'Cuba', 'Taiwan', 'Italy', 'Canada', 'Portugal',\n       'China', 'Nicaragua', 'Honduras', 'Iran', 'Scotland', 'Jamaica',\n       'Ecuador', 'Yugoslavia', 'Hungary', 'Hong', 'Greece',\n       'Trinadad&Tobago', 'Outlying-US(Guam-USVI-etc)', 'France',\n       'Holand-Netherlands'], dtype=object)"
          },
          "metadata": {}
        }
      ],
      "execution_count": 149
    },
    {
      "cell_type": "code",
      "source": "df.value_counts(\"native-country\")",
      "metadata": {
        "trusted": true
      },
      "outputs": [
        {
          "execution_count": 150,
          "output_type": "execute_result",
          "data": {
            "text/plain": "native-country\nUnited-States                 43832\nMexico                          951\n?                               857\nPhilippines                     295\nGermany                         206\nPuerto-Rico                     184\nCanada                          182\nEl-Salvador                     155\nIndia                           151\nCuba                            138\nEngland                         127\nChina                           122\nSouth                           115\nJamaica                         106\nItaly                           105\nDominican-Republic              103\nJapan                            92\nGuatemala                        88\nPoland                           87\nVietnam                          86\nColumbia                         85\nHaiti                            75\nPortugal                         67\nTaiwan                           65\nIran                             59\nGreece                           49\nNicaragua                        49\nPeru                             46\nEcuador                          45\nFrance                           38\nIreland                          37\nHong                             30\nThailand                         30\nCambodia                         28\nTrinadad&Tobago                  27\nOutlying-US(Guam-USVI-etc)       23\nLaos                             23\nYugoslavia                       23\nScotland                         21\nHonduras                         20\nHungary                          19\nHoland-Netherlands                1\ndtype: int64"
          },
          "metadata": {}
        }
      ],
      "execution_count": 150
    },
    {
      "cell_type": "code",
      "source": "df[\"native-country\"].replace(\"?\",\"United-States\", inplace = True)\ndf.value_counts(\"native-country\")",
      "metadata": {
        "trusted": true
      },
      "outputs": [
        {
          "execution_count": 151,
          "output_type": "execute_result",
          "data": {
            "text/plain": "native-country\nUnited-States                 44689\nMexico                          951\nPhilippines                     295\nGermany                         206\nPuerto-Rico                     184\nCanada                          182\nEl-Salvador                     155\nIndia                           151\nCuba                            138\nEngland                         127\nChina                           122\nSouth                           115\nJamaica                         106\nItaly                           105\nDominican-Republic              103\nJapan                            92\nGuatemala                        88\nPoland                           87\nVietnam                          86\nColumbia                         85\nHaiti                            75\nPortugal                         67\nTaiwan                           65\nIran                             59\nGreece                           49\nNicaragua                        49\nPeru                             46\nEcuador                          45\nFrance                           38\nIreland                          37\nThailand                         30\nHong                             30\nCambodia                         28\nTrinadad&Tobago                  27\nOutlying-US(Guam-USVI-etc)       23\nLaos                             23\nYugoslavia                       23\nScotland                         21\nHonduras                         20\nHungary                          19\nHoland-Netherlands                1\ndtype: int64"
          },
          "metadata": {}
        }
      ],
      "execution_count": 151
    },
    {
      "cell_type": "code",
      "source": "# Droping the 'fnlwgt' column as it may not be useful for analysis.\ndf.drop(columns= 'fnlwgt', inplace= True)\ndf",
      "metadata": {
        "trusted": true
      },
      "outputs": [
        {
          "execution_count": 152,
          "output_type": "execute_result",
          "data": {
            "text/plain": "       age     workclass     education  educational-num      marital-status  \\\n0       25       Private          11th                7       Never-married   \n1       38       Private       HS-grad                9  Married-civ-spouse   \n2       28     Local-gov    Assoc-acdm               12  Married-civ-spouse   \n3       44       Private  Some-college               10  Married-civ-spouse   \n4       18       Private  Some-college               10       Never-married   \n...    ...           ...           ...              ...                 ...   \n48837   27       Private    Assoc-acdm               12  Married-civ-spouse   \n48838   40       Private       HS-grad                9  Married-civ-spouse   \n48839   58       Private       HS-grad                9             Widowed   \n48840   22       Private       HS-grad                9       Never-married   \n48841   52  Self-emp-inc       HS-grad                9  Married-civ-spouse   \n\n              occupation relationship   race  gender  capital-gain  \\\n0      Machine-op-inspct    Own-child  Black    Male             0   \n1        Farming-fishing      Husband  White    Male             0   \n2        Protective-serv      Husband  White    Male             0   \n3      Machine-op-inspct      Husband  Black    Male          7688   \n4         Prof-specialty    Own-child  White  Female             0   \n...                  ...          ...    ...     ...           ...   \n48837       Tech-support         Wife  White  Female             0   \n48838  Machine-op-inspct      Husband  White    Male             0   \n48839       Adm-clerical    Unmarried  White  Female             0   \n48840       Adm-clerical    Own-child  White    Male             0   \n48841    Exec-managerial         Wife  White  Female         15024   \n\n       capital-loss  hours-per-week native-country income  \n0                 0              40  United-States  <=50K  \n1                 0              50  United-States  <=50K  \n2                 0              40  United-States   >50K  \n3                 0              40  United-States   >50K  \n4                 0              30  United-States  <=50K  \n...             ...             ...            ...    ...  \n48837             0              38  United-States  <=50K  \n48838             0              40  United-States   >50K  \n48839             0              40  United-States  <=50K  \n48840             0              20  United-States  <=50K  \n48841             0              40  United-States   >50K  \n\n[48842 rows x 14 columns]",
            "text/html": "<div>\n<style scoped>\n    .dataframe tbody tr th:only-of-type {\n        vertical-align: middle;\n    }\n\n    .dataframe tbody tr th {\n        vertical-align: top;\n    }\n\n    .dataframe thead th {\n        text-align: right;\n    }\n</style>\n<table border=\"1\" class=\"dataframe\">\n  <thead>\n    <tr style=\"text-align: right;\">\n      <th></th>\n      <th>age</th>\n      <th>workclass</th>\n      <th>education</th>\n      <th>educational-num</th>\n      <th>marital-status</th>\n      <th>occupation</th>\n      <th>relationship</th>\n      <th>race</th>\n      <th>gender</th>\n      <th>capital-gain</th>\n      <th>capital-loss</th>\n      <th>hours-per-week</th>\n      <th>native-country</th>\n      <th>income</th>\n    </tr>\n  </thead>\n  <tbody>\n    <tr>\n      <th>0</th>\n      <td>25</td>\n      <td>Private</td>\n      <td>11th</td>\n      <td>7</td>\n      <td>Never-married</td>\n      <td>Machine-op-inspct</td>\n      <td>Own-child</td>\n      <td>Black</td>\n      <td>Male</td>\n      <td>0</td>\n      <td>0</td>\n      <td>40</td>\n      <td>United-States</td>\n      <td>&lt;=50K</td>\n    </tr>\n    <tr>\n      <th>1</th>\n      <td>38</td>\n      <td>Private</td>\n      <td>HS-grad</td>\n      <td>9</td>\n      <td>Married-civ-spouse</td>\n      <td>Farming-fishing</td>\n      <td>Husband</td>\n      <td>White</td>\n      <td>Male</td>\n      <td>0</td>\n      <td>0</td>\n      <td>50</td>\n      <td>United-States</td>\n      <td>&lt;=50K</td>\n    </tr>\n    <tr>\n      <th>2</th>\n      <td>28</td>\n      <td>Local-gov</td>\n      <td>Assoc-acdm</td>\n      <td>12</td>\n      <td>Married-civ-spouse</td>\n      <td>Protective-serv</td>\n      <td>Husband</td>\n      <td>White</td>\n      <td>Male</td>\n      <td>0</td>\n      <td>0</td>\n      <td>40</td>\n      <td>United-States</td>\n      <td>&gt;50K</td>\n    </tr>\n    <tr>\n      <th>3</th>\n      <td>44</td>\n      <td>Private</td>\n      <td>Some-college</td>\n      <td>10</td>\n      <td>Married-civ-spouse</td>\n      <td>Machine-op-inspct</td>\n      <td>Husband</td>\n      <td>Black</td>\n      <td>Male</td>\n      <td>7688</td>\n      <td>0</td>\n      <td>40</td>\n      <td>United-States</td>\n      <td>&gt;50K</td>\n    </tr>\n    <tr>\n      <th>4</th>\n      <td>18</td>\n      <td>Private</td>\n      <td>Some-college</td>\n      <td>10</td>\n      <td>Never-married</td>\n      <td>Prof-specialty</td>\n      <td>Own-child</td>\n      <td>White</td>\n      <td>Female</td>\n      <td>0</td>\n      <td>0</td>\n      <td>30</td>\n      <td>United-States</td>\n      <td>&lt;=50K</td>\n    </tr>\n    <tr>\n      <th>...</th>\n      <td>...</td>\n      <td>...</td>\n      <td>...</td>\n      <td>...</td>\n      <td>...</td>\n      <td>...</td>\n      <td>...</td>\n      <td>...</td>\n      <td>...</td>\n      <td>...</td>\n      <td>...</td>\n      <td>...</td>\n      <td>...</td>\n      <td>...</td>\n    </tr>\n    <tr>\n      <th>48837</th>\n      <td>27</td>\n      <td>Private</td>\n      <td>Assoc-acdm</td>\n      <td>12</td>\n      <td>Married-civ-spouse</td>\n      <td>Tech-support</td>\n      <td>Wife</td>\n      <td>White</td>\n      <td>Female</td>\n      <td>0</td>\n      <td>0</td>\n      <td>38</td>\n      <td>United-States</td>\n      <td>&lt;=50K</td>\n    </tr>\n    <tr>\n      <th>48838</th>\n      <td>40</td>\n      <td>Private</td>\n      <td>HS-grad</td>\n      <td>9</td>\n      <td>Married-civ-spouse</td>\n      <td>Machine-op-inspct</td>\n      <td>Husband</td>\n      <td>White</td>\n      <td>Male</td>\n      <td>0</td>\n      <td>0</td>\n      <td>40</td>\n      <td>United-States</td>\n      <td>&gt;50K</td>\n    </tr>\n    <tr>\n      <th>48839</th>\n      <td>58</td>\n      <td>Private</td>\n      <td>HS-grad</td>\n      <td>9</td>\n      <td>Widowed</td>\n      <td>Adm-clerical</td>\n      <td>Unmarried</td>\n      <td>White</td>\n      <td>Female</td>\n      <td>0</td>\n      <td>0</td>\n      <td>40</td>\n      <td>United-States</td>\n      <td>&lt;=50K</td>\n    </tr>\n    <tr>\n      <th>48840</th>\n      <td>22</td>\n      <td>Private</td>\n      <td>HS-grad</td>\n      <td>9</td>\n      <td>Never-married</td>\n      <td>Adm-clerical</td>\n      <td>Own-child</td>\n      <td>White</td>\n      <td>Male</td>\n      <td>0</td>\n      <td>0</td>\n      <td>20</td>\n      <td>United-States</td>\n      <td>&lt;=50K</td>\n    </tr>\n    <tr>\n      <th>48841</th>\n      <td>52</td>\n      <td>Self-emp-inc</td>\n      <td>HS-grad</td>\n      <td>9</td>\n      <td>Married-civ-spouse</td>\n      <td>Exec-managerial</td>\n      <td>Wife</td>\n      <td>White</td>\n      <td>Female</td>\n      <td>15024</td>\n      <td>0</td>\n      <td>40</td>\n      <td>United-States</td>\n      <td>&gt;50K</td>\n    </tr>\n  </tbody>\n</table>\n<p>48842 rows × 14 columns</p>\n</div>"
          },
          "metadata": {}
        }
      ],
      "execution_count": 152
    },
    {
      "cell_type": "markdown",
      "source": "## Data Analysis Questions",
      "metadata": {}
    },
    {
      "cell_type": "markdown",
      "source": "### Basic Statistics",
      "metadata": {}
    },
    {
      "cell_type": "code",
      "source": "# Calculate the mean, median, and mode for the 'hours-per-week' column.\nprint(\"mean\",df['hours-per-week'].mean())\nprint(\"median is\",df['hours-per-week'].median())\nprint(\"mode is \",df['hours-per-week'].mode()[0])",
      "metadata": {
        "trusted": true
      },
      "outputs": [
        {
          "name": "stdout",
          "text": "mean 40.422382375824085\nmedian is 40.0\nmode is  40\n",
          "output_type": "stream"
        }
      ],
      "execution_count": 153
    },
    {
      "cell_type": "code",
      "source": "# Find the most common education level in the dataset.\ndf.value_counts(\"education\").head(1)",
      "metadata": {
        "trusted": true
      },
      "outputs": [
        {
          "execution_count": 154,
          "output_type": "execute_result",
          "data": {
            "text/plain": "education\nHS-grad    15784\ndtype: int64"
          },
          "metadata": {}
        }
      ],
      "execution_count": 154
    },
    {
      "cell_type": "code",
      "source": "#Calculate the average 'capital-gain' for individuals with income >50K and <=50K.\nprint(\"for >50k mean is  \",df[df['income'] == '>50K']['capital-gain'].mean())\nprint(\"for <=50k mean is \",df[df['income'] == '<=50K']['capital-gain'].mean())",
      "metadata": {
        "trusted": true
      },
      "outputs": [
        {
          "name": "stdout",
          "text": "for >50k mean is   4042.2394968768717\nfor <=50k mean is  147.0103081684834\n",
          "output_type": "stream"
        }
      ],
      "execution_count": 155
    },
    {
      "cell_type": "markdown",
      "source": "## Grouping and Aggregation\n",
      "metadata": {}
    },
    {
      "cell_type": "markdown",
      "source": "### Group the data by 'education' and calculate the average 'hours-per-week' for each group.\n\n",
      "metadata": {}
    },
    {
      "cell_type": "code",
      "source": "df.groupby('education')['hours-per-week'].mean()",
      "metadata": {
        "trusted": true
      },
      "outputs": [
        {
          "execution_count": 156,
          "output_type": "execute_result",
          "data": {
            "text/plain": "education\n10th            36.986321\n11th            33.952539\n12th            35.374429\n1st-4th         38.761134\n5th-6th         38.923379\n7th-8th         39.003141\n9th             38.359788\nAssoc-acdm      40.809494\nAssoc-voc       41.658418\nBachelors       42.482492\nDoctorate       46.582492\nHS-grad         40.640775\nMasters         43.575837\nPreschool       36.566265\nProf-school     47.579137\nSome-college    38.865784\nName: hours-per-week, dtype: float64"
          },
          "metadata": {}
        }
      ],
      "execution_count": 156
    },
    {
      "cell_type": "markdown",
      "source": "### Group the data by 'occupation' and find the total number of individuals in each occupation.",
      "metadata": {}
    },
    {
      "cell_type": "code",
      "source": "df.value_counts('occupation')",
      "metadata": {
        "trusted": true
      },
      "outputs": [
        {
          "execution_count": 158,
          "output_type": "execute_result",
          "data": {
            "text/plain": "occupation\nProf-specialty       8981\nCraft-repair         6112\nExec-managerial      6086\nAdm-clerical         5611\nSales                5504\nOther-service        4923\nMachine-op-inspct    3022\nTransport-moving     2355\nHandlers-cleaners    2072\nFarming-fishing      1490\nTech-support         1446\nProtective-serv       983\nPriv-house-serv       242\nArmed-Forces           15\ndtype: int64"
          },
          "metadata": {}
        }
      ],
      "execution_count": 158
    },
    {
      "cell_type": "markdown",
      "source": "### Calculate the average 'age' of individuals in different 'workclass' categories.",
      "metadata": {}
    },
    {
      "cell_type": "code",
      "source": "df.groupby('workclass')['age' ].mean()",
      "metadata": {
        "trusted": true
      },
      "outputs": [
        {
          "execution_count": 139,
          "output_type": "execute_result",
          "data": {
            "text/plain": "workclass\nFederal-gov         42.577514\nLocal-gov           41.676020\nNever-worked        19.900000\nPrivate             37.150061\nSelf-emp-inc        45.799410\nSelf-emp-not-inc    45.332470\nState-gov           39.512367\nWithout-pay         47.285714\nName: age, dtype: float64"
          },
          "metadata": {}
        }
      ],
      "execution_count": 139
    },
    {
      "cell_type": "markdown",
      "source": "## Filtering Data",
      "metadata": {}
    },
    {
      "cell_type": "markdown",
      "source": "### Display the occupation of people whose 'capital-gain' is greater than 5000.",
      "metadata": {}
    },
    {
      "cell_type": "code",
      "source": "df[df['capital-gain'] > 5000][\"occupation\"].value_counts()",
      "metadata": {
        "trusted": true
      },
      "outputs": [
        {
          "execution_count": 138,
          "output_type": "execute_result",
          "data": {
            "text/plain": "Prof-specialty       713\nExec-managerial      634\nSales                312\nCraft-repair         255\nAdm-clerical         156\nTransport-moving      85\nTech-support          67\nMachine-op-inspct     65\nFarming-fishing       48\nOther-service         43\nProtective-serv       41\nHandlers-cleaners     30\nArmed-Forces           1\nPriv-house-serv        1\nName: occupation, dtype: int64"
          },
          "metadata": {}
        }
      ],
      "execution_count": 138
    },
    {
      "cell_type": "markdown",
      "source": "### Filter the dataset to include only rows where 'education' is 'Bachelors'.",
      "metadata": {}
    },
    {
      "cell_type": "code",
      "source": "df[df['education']=='Bachelors']",
      "metadata": {
        "trusted": true
      },
      "outputs": [
        {
          "execution_count": 42,
          "output_type": "execute_result",
          "data": {
            "text/plain": "       age         workclass  education  educational-num      marital-status  \\\n11      36       Federal-gov  Bachelors               13  Married-civ-spouse   \n20      34           Private  Bachelors               13  Married-civ-spouse   \n23      25           Private  Bachelors               13       Never-married   \n24      25           Private  Bachelors               13  Married-civ-spouse   \n32      24  Self-emp-not-inc  Bachelors               13       Never-married   \n...    ...               ...        ...              ...                 ...   \n48811   35                 ?  Bachelors               13  Married-civ-spouse   \n48812   30                 ?  Bachelors               13       Never-married   \n48814   54           Private  Bachelors               13  Married-civ-spouse   \n48817   34           Private  Bachelors               13       Never-married   \n48819   38           Private  Bachelors               13            Divorced   \n\n            occupation   relationship                race  gender  \\\n11        Adm-clerical        Husband               White    Male   \n20        Tech-support        Husband               White    Male   \n23      Prof-specialty  Not-in-family               White    Male   \n24      Prof-specialty        Husband               White    Male   \n32               Sales  Not-in-family               White    Male   \n...                ...            ...                 ...     ...   \n48811                ?           Wife               White  Female   \n48812                ?  Not-in-family  Asian-Pac-Islander  Female   \n48814  Exec-managerial        Husband  Asian-Pac-Islander    Male   \n48817  Exec-managerial  Not-in-family               White  Female   \n48819   Prof-specialty      Unmarried               Black  Female   \n\n       capital-gain  capital-loss  hours-per-week native-country income  \n11                0             0              40  United-States  <=50K  \n20                0             0              47  United-States   >50K  \n23                0             0              43           Peru  <=50K  \n24                0             0              40  United-States  <=50K  \n32                0             0              50  United-States  <=50K  \n...             ...           ...             ...            ...    ...  \n48811             0             0              55  United-States   >50K  \n48812             0             0              99  United-States  <=50K  \n48814             0             0              50          Japan   >50K  \n48817             0             0              55  United-States   >50K  \n48819         15020             0              45  United-States   >50K  \n\n[8025 rows x 14 columns]",
            "text/html": "<div>\n<style scoped>\n    .dataframe tbody tr th:only-of-type {\n        vertical-align: middle;\n    }\n\n    .dataframe tbody tr th {\n        vertical-align: top;\n    }\n\n    .dataframe thead th {\n        text-align: right;\n    }\n</style>\n<table border=\"1\" class=\"dataframe\">\n  <thead>\n    <tr style=\"text-align: right;\">\n      <th></th>\n      <th>age</th>\n      <th>workclass</th>\n      <th>education</th>\n      <th>educational-num</th>\n      <th>marital-status</th>\n      <th>occupation</th>\n      <th>relationship</th>\n      <th>race</th>\n      <th>gender</th>\n      <th>capital-gain</th>\n      <th>capital-loss</th>\n      <th>hours-per-week</th>\n      <th>native-country</th>\n      <th>income</th>\n    </tr>\n  </thead>\n  <tbody>\n    <tr>\n      <th>11</th>\n      <td>36</td>\n      <td>Federal-gov</td>\n      <td>Bachelors</td>\n      <td>13</td>\n      <td>Married-civ-spouse</td>\n      <td>Adm-clerical</td>\n      <td>Husband</td>\n      <td>White</td>\n      <td>Male</td>\n      <td>0</td>\n      <td>0</td>\n      <td>40</td>\n      <td>United-States</td>\n      <td>&lt;=50K</td>\n    </tr>\n    <tr>\n      <th>20</th>\n      <td>34</td>\n      <td>Private</td>\n      <td>Bachelors</td>\n      <td>13</td>\n      <td>Married-civ-spouse</td>\n      <td>Tech-support</td>\n      <td>Husband</td>\n      <td>White</td>\n      <td>Male</td>\n      <td>0</td>\n      <td>0</td>\n      <td>47</td>\n      <td>United-States</td>\n      <td>&gt;50K</td>\n    </tr>\n    <tr>\n      <th>23</th>\n      <td>25</td>\n      <td>Private</td>\n      <td>Bachelors</td>\n      <td>13</td>\n      <td>Never-married</td>\n      <td>Prof-specialty</td>\n      <td>Not-in-family</td>\n      <td>White</td>\n      <td>Male</td>\n      <td>0</td>\n      <td>0</td>\n      <td>43</td>\n      <td>Peru</td>\n      <td>&lt;=50K</td>\n    </tr>\n    <tr>\n      <th>24</th>\n      <td>25</td>\n      <td>Private</td>\n      <td>Bachelors</td>\n      <td>13</td>\n      <td>Married-civ-spouse</td>\n      <td>Prof-specialty</td>\n      <td>Husband</td>\n      <td>White</td>\n      <td>Male</td>\n      <td>0</td>\n      <td>0</td>\n      <td>40</td>\n      <td>United-States</td>\n      <td>&lt;=50K</td>\n    </tr>\n    <tr>\n      <th>32</th>\n      <td>24</td>\n      <td>Self-emp-not-inc</td>\n      <td>Bachelors</td>\n      <td>13</td>\n      <td>Never-married</td>\n      <td>Sales</td>\n      <td>Not-in-family</td>\n      <td>White</td>\n      <td>Male</td>\n      <td>0</td>\n      <td>0</td>\n      <td>50</td>\n      <td>United-States</td>\n      <td>&lt;=50K</td>\n    </tr>\n    <tr>\n      <th>...</th>\n      <td>...</td>\n      <td>...</td>\n      <td>...</td>\n      <td>...</td>\n      <td>...</td>\n      <td>...</td>\n      <td>...</td>\n      <td>...</td>\n      <td>...</td>\n      <td>...</td>\n      <td>...</td>\n      <td>...</td>\n      <td>...</td>\n      <td>...</td>\n    </tr>\n    <tr>\n      <th>48811</th>\n      <td>35</td>\n      <td>?</td>\n      <td>Bachelors</td>\n      <td>13</td>\n      <td>Married-civ-spouse</td>\n      <td>?</td>\n      <td>Wife</td>\n      <td>White</td>\n      <td>Female</td>\n      <td>0</td>\n      <td>0</td>\n      <td>55</td>\n      <td>United-States</td>\n      <td>&gt;50K</td>\n    </tr>\n    <tr>\n      <th>48812</th>\n      <td>30</td>\n      <td>?</td>\n      <td>Bachelors</td>\n      <td>13</td>\n      <td>Never-married</td>\n      <td>?</td>\n      <td>Not-in-family</td>\n      <td>Asian-Pac-Islander</td>\n      <td>Female</td>\n      <td>0</td>\n      <td>0</td>\n      <td>99</td>\n      <td>United-States</td>\n      <td>&lt;=50K</td>\n    </tr>\n    <tr>\n      <th>48814</th>\n      <td>54</td>\n      <td>Private</td>\n      <td>Bachelors</td>\n      <td>13</td>\n      <td>Married-civ-spouse</td>\n      <td>Exec-managerial</td>\n      <td>Husband</td>\n      <td>Asian-Pac-Islander</td>\n      <td>Male</td>\n      <td>0</td>\n      <td>0</td>\n      <td>50</td>\n      <td>Japan</td>\n      <td>&gt;50K</td>\n    </tr>\n    <tr>\n      <th>48817</th>\n      <td>34</td>\n      <td>Private</td>\n      <td>Bachelors</td>\n      <td>13</td>\n      <td>Never-married</td>\n      <td>Exec-managerial</td>\n      <td>Not-in-family</td>\n      <td>White</td>\n      <td>Female</td>\n      <td>0</td>\n      <td>0</td>\n      <td>55</td>\n      <td>United-States</td>\n      <td>&gt;50K</td>\n    </tr>\n    <tr>\n      <th>48819</th>\n      <td>38</td>\n      <td>Private</td>\n      <td>Bachelors</td>\n      <td>13</td>\n      <td>Divorced</td>\n      <td>Prof-specialty</td>\n      <td>Unmarried</td>\n      <td>Black</td>\n      <td>Female</td>\n      <td>15020</td>\n      <td>0</td>\n      <td>45</td>\n      <td>United-States</td>\n      <td>&gt;50K</td>\n    </tr>\n  </tbody>\n</table>\n<p>8025 rows × 14 columns</p>\n</div>"
          },
          "metadata": {}
        }
      ],
      "execution_count": 42
    },
    {
      "cell_type": "markdown",
      "source": "### Find the average 'hours-per-week' of individuals who are 'Married-civ-spouse'.",
      "metadata": {}
    },
    {
      "cell_type": "code",
      "source": " df['hours-per-week'].mean(),[\"marital-status\"] =='Married-civ-spouse'",
      "metadata": {
        "trusted": true
      },
      "outputs": [
        {
          "execution_count": 76,
          "output_type": "execute_result",
          "data": {
            "text/plain": "(40.422382375824085, False)"
          },
          "metadata": {}
        }
      ],
      "execution_count": 76
    },
    {
      "cell_type": "markdown",
      "source": "### Filter the dataset to include only rows where the 'India'",
      "metadata": {}
    },
    {
      "cell_type": "code",
      "source": "df[df[\"native-country\"]== 'India']",
      "metadata": {
        "trusted": true
      },
      "outputs": [
        {
          "execution_count": 44,
          "output_type": "execute_result",
          "data": {
            "text/plain": "       age  workclass     education  educational-num         marital-status  \\\n398     36    Private       Masters               14     Married-civ-spouse   \n564     26    Private  Some-college               10          Never-married   \n1101    55    Private     Bachelors               13     Married-civ-spouse   \n1556    33  State-gov     Doctorate               16     Married-civ-spouse   \n1593    54          ?     Doctorate               16  Married-spouse-absent   \n...    ...        ...           ...              ...                    ...   \n46433   48    Private     Doctorate               16     Married-civ-spouse   \n47114   25    Private    Assoc-acdm               12     Married-civ-spouse   \n47152   26    Private       Masters               14          Never-married   \n47608   38  State-gov     Bachelors               13     Married-civ-spouse   \n47638   23    Private       Masters               14     Married-civ-spouse   \n\n              occupation    relationship                race  gender  \\\n398      Exec-managerial         Husband  Asian-Pac-Islander    Male   \n564         Adm-clerical  Other-relative  Asian-Pac-Islander    Male   \n1101   Machine-op-inspct         Husband  Asian-Pac-Islander    Male   \n1556      Prof-specialty         Husband  Asian-Pac-Islander    Male   \n1593                   ?       Unmarried  Asian-Pac-Islander    Male   \n...                  ...             ...                 ...     ...   \n46433     Prof-specialty         Husband  Asian-Pac-Islander    Male   \n47114       Adm-clerical            Wife  Asian-Pac-Islander  Female   \n47152     Prof-specialty   Not-in-family  Asian-Pac-Islander    Male   \n47608     Prof-specialty         Husband  Asian-Pac-Islander    Male   \n47638     Prof-specialty         Husband  Asian-Pac-Islander    Male   \n\n       capital-gain  capital-loss  hours-per-week native-country income  \n398               0             0              45          India  <=50K  \n564               0             0              60          India  <=50K  \n1101              0             0              40          India  <=50K  \n1556              0             0              50          India   >50K  \n1593              0             0              20          India  <=50K  \n...             ...           ...             ...            ...    ...  \n46433             0             0              40          India   >50K  \n47114             0             0              37          India   >50K  \n47152             0             0              20          India  <=50K  \n47608          7688             0              60          India   >50K  \n47638             0          1887              50          India   >50K  \n\n[151 rows x 14 columns]",
            "text/html": "<div>\n<style scoped>\n    .dataframe tbody tr th:only-of-type {\n        vertical-align: middle;\n    }\n\n    .dataframe tbody tr th {\n        vertical-align: top;\n    }\n\n    .dataframe thead th {\n        text-align: right;\n    }\n</style>\n<table border=\"1\" class=\"dataframe\">\n  <thead>\n    <tr style=\"text-align: right;\">\n      <th></th>\n      <th>age</th>\n      <th>workclass</th>\n      <th>education</th>\n      <th>educational-num</th>\n      <th>marital-status</th>\n      <th>occupation</th>\n      <th>relationship</th>\n      <th>race</th>\n      <th>gender</th>\n      <th>capital-gain</th>\n      <th>capital-loss</th>\n      <th>hours-per-week</th>\n      <th>native-country</th>\n      <th>income</th>\n    </tr>\n  </thead>\n  <tbody>\n    <tr>\n      <th>398</th>\n      <td>36</td>\n      <td>Private</td>\n      <td>Masters</td>\n      <td>14</td>\n      <td>Married-civ-spouse</td>\n      <td>Exec-managerial</td>\n      <td>Husband</td>\n      <td>Asian-Pac-Islander</td>\n      <td>Male</td>\n      <td>0</td>\n      <td>0</td>\n      <td>45</td>\n      <td>India</td>\n      <td>&lt;=50K</td>\n    </tr>\n    <tr>\n      <th>564</th>\n      <td>26</td>\n      <td>Private</td>\n      <td>Some-college</td>\n      <td>10</td>\n      <td>Never-married</td>\n      <td>Adm-clerical</td>\n      <td>Other-relative</td>\n      <td>Asian-Pac-Islander</td>\n      <td>Male</td>\n      <td>0</td>\n      <td>0</td>\n      <td>60</td>\n      <td>India</td>\n      <td>&lt;=50K</td>\n    </tr>\n    <tr>\n      <th>1101</th>\n      <td>55</td>\n      <td>Private</td>\n      <td>Bachelors</td>\n      <td>13</td>\n      <td>Married-civ-spouse</td>\n      <td>Machine-op-inspct</td>\n      <td>Husband</td>\n      <td>Asian-Pac-Islander</td>\n      <td>Male</td>\n      <td>0</td>\n      <td>0</td>\n      <td>40</td>\n      <td>India</td>\n      <td>&lt;=50K</td>\n    </tr>\n    <tr>\n      <th>1556</th>\n      <td>33</td>\n      <td>State-gov</td>\n      <td>Doctorate</td>\n      <td>16</td>\n      <td>Married-civ-spouse</td>\n      <td>Prof-specialty</td>\n      <td>Husband</td>\n      <td>Asian-Pac-Islander</td>\n      <td>Male</td>\n      <td>0</td>\n      <td>0</td>\n      <td>50</td>\n      <td>India</td>\n      <td>&gt;50K</td>\n    </tr>\n    <tr>\n      <th>1593</th>\n      <td>54</td>\n      <td>?</td>\n      <td>Doctorate</td>\n      <td>16</td>\n      <td>Married-spouse-absent</td>\n      <td>?</td>\n      <td>Unmarried</td>\n      <td>Asian-Pac-Islander</td>\n      <td>Male</td>\n      <td>0</td>\n      <td>0</td>\n      <td>20</td>\n      <td>India</td>\n      <td>&lt;=50K</td>\n    </tr>\n    <tr>\n      <th>...</th>\n      <td>...</td>\n      <td>...</td>\n      <td>...</td>\n      <td>...</td>\n      <td>...</td>\n      <td>...</td>\n      <td>...</td>\n      <td>...</td>\n      <td>...</td>\n      <td>...</td>\n      <td>...</td>\n      <td>...</td>\n      <td>...</td>\n      <td>...</td>\n    </tr>\n    <tr>\n      <th>46433</th>\n      <td>48</td>\n      <td>Private</td>\n      <td>Doctorate</td>\n      <td>16</td>\n      <td>Married-civ-spouse</td>\n      <td>Prof-specialty</td>\n      <td>Husband</td>\n      <td>Asian-Pac-Islander</td>\n      <td>Male</td>\n      <td>0</td>\n      <td>0</td>\n      <td>40</td>\n      <td>India</td>\n      <td>&gt;50K</td>\n    </tr>\n    <tr>\n      <th>47114</th>\n      <td>25</td>\n      <td>Private</td>\n      <td>Assoc-acdm</td>\n      <td>12</td>\n      <td>Married-civ-spouse</td>\n      <td>Adm-clerical</td>\n      <td>Wife</td>\n      <td>Asian-Pac-Islander</td>\n      <td>Female</td>\n      <td>0</td>\n      <td>0</td>\n      <td>37</td>\n      <td>India</td>\n      <td>&gt;50K</td>\n    </tr>\n    <tr>\n      <th>47152</th>\n      <td>26</td>\n      <td>Private</td>\n      <td>Masters</td>\n      <td>14</td>\n      <td>Never-married</td>\n      <td>Prof-specialty</td>\n      <td>Not-in-family</td>\n      <td>Asian-Pac-Islander</td>\n      <td>Male</td>\n      <td>0</td>\n      <td>0</td>\n      <td>20</td>\n      <td>India</td>\n      <td>&lt;=50K</td>\n    </tr>\n    <tr>\n      <th>47608</th>\n      <td>38</td>\n      <td>State-gov</td>\n      <td>Bachelors</td>\n      <td>13</td>\n      <td>Married-civ-spouse</td>\n      <td>Prof-specialty</td>\n      <td>Husband</td>\n      <td>Asian-Pac-Islander</td>\n      <td>Male</td>\n      <td>7688</td>\n      <td>0</td>\n      <td>60</td>\n      <td>India</td>\n      <td>&gt;50K</td>\n    </tr>\n    <tr>\n      <th>47638</th>\n      <td>23</td>\n      <td>Private</td>\n      <td>Masters</td>\n      <td>14</td>\n      <td>Married-civ-spouse</td>\n      <td>Prof-specialty</td>\n      <td>Husband</td>\n      <td>Asian-Pac-Islander</td>\n      <td>Male</td>\n      <td>0</td>\n      <td>1887</td>\n      <td>50</td>\n      <td>India</td>\n      <td>&gt;50K</td>\n    </tr>\n  </tbody>\n</table>\n<p>151 rows × 14 columns</p>\n</div>"
          },
          "metadata": {}
        }
      ],
      "execution_count": 44
    },
    {
      "cell_type": "markdown",
      "source": "###  filter the DataFrame to include only rows where the 'age' is greater than 30?",
      "metadata": {}
    },
    {
      "cell_type": "code",
      "source": "df[df[\"age\"] > 30]",
      "metadata": {
        "trusted": true
      },
      "outputs": [
        {
          "execution_count": 79,
          "output_type": "execute_result",
          "data": {
            "text/plain": "       age         workclass     education  educational-num  \\\n1       38           Private       HS-grad                9   \n3       44           Private  Some-college               10   \n5       34           Private          10th                6   \n7       63  Self-emp-not-inc   Prof-school               15   \n9       55           Private       7th-8th                4   \n...    ...               ...           ...              ...   \n48834   32           Private       Masters               14   \n48835   53           Private       Masters               14   \n48838   40           Private       HS-grad                9   \n48839   58           Private       HS-grad                9   \n48841   52      Self-emp-inc       HS-grad                9   \n\n           marital-status         occupation   relationship  \\\n1      Married-civ-spouse    Farming-fishing        Husband   \n3      Married-civ-spouse  Machine-op-inspct        Husband   \n5           Never-married      Other-service  Not-in-family   \n7      Married-civ-spouse     Prof-specialty        Husband   \n9      Married-civ-spouse       Craft-repair        Husband   \n...                   ...                ...            ...   \n48834       Never-married       Tech-support  Not-in-family   \n48835  Married-civ-spouse    Exec-managerial        Husband   \n48838  Married-civ-spouse  Machine-op-inspct        Husband   \n48839             Widowed       Adm-clerical      Unmarried   \n48841  Married-civ-spouse    Exec-managerial           Wife   \n\n                     race  gender  capital-gain  capital-loss  hours-per-week  \\\n1                   White    Male             0             0              50   \n3                   Black    Male          7688             0              40   \n5                   White    Male             0             0              30   \n7                   White    Male          3103             0              32   \n9                   White    Male             0             0              10   \n...                   ...     ...           ...           ...             ...   \n48834  Asian-Pac-Islander    Male             0             0              11   \n48835               White    Male             0             0              40   \n48838               White    Male             0             0              40   \n48839               White  Female             0             0              40   \n48841               White  Female         15024             0              40   \n\n      native-country income  \n1      United-States  <=50K  \n3      United-States   >50K  \n5      United-States  <=50K  \n7      United-States   >50K  \n9      United-States  <=50K  \n...              ...    ...  \n48834         Taiwan  <=50K  \n48835  United-States   >50K  \n48838  United-States   >50K  \n48839  United-States  <=50K  \n48841  United-States   >50K  \n\n[33049 rows x 14 columns]",
            "text/html": "<div>\n<style scoped>\n    .dataframe tbody tr th:only-of-type {\n        vertical-align: middle;\n    }\n\n    .dataframe tbody tr th {\n        vertical-align: top;\n    }\n\n    .dataframe thead th {\n        text-align: right;\n    }\n</style>\n<table border=\"1\" class=\"dataframe\">\n  <thead>\n    <tr style=\"text-align: right;\">\n      <th></th>\n      <th>age</th>\n      <th>workclass</th>\n      <th>education</th>\n      <th>educational-num</th>\n      <th>marital-status</th>\n      <th>occupation</th>\n      <th>relationship</th>\n      <th>race</th>\n      <th>gender</th>\n      <th>capital-gain</th>\n      <th>capital-loss</th>\n      <th>hours-per-week</th>\n      <th>native-country</th>\n      <th>income</th>\n    </tr>\n  </thead>\n  <tbody>\n    <tr>\n      <th>1</th>\n      <td>38</td>\n      <td>Private</td>\n      <td>HS-grad</td>\n      <td>9</td>\n      <td>Married-civ-spouse</td>\n      <td>Farming-fishing</td>\n      <td>Husband</td>\n      <td>White</td>\n      <td>Male</td>\n      <td>0</td>\n      <td>0</td>\n      <td>50</td>\n      <td>United-States</td>\n      <td>&lt;=50K</td>\n    </tr>\n    <tr>\n      <th>3</th>\n      <td>44</td>\n      <td>Private</td>\n      <td>Some-college</td>\n      <td>10</td>\n      <td>Married-civ-spouse</td>\n      <td>Machine-op-inspct</td>\n      <td>Husband</td>\n      <td>Black</td>\n      <td>Male</td>\n      <td>7688</td>\n      <td>0</td>\n      <td>40</td>\n      <td>United-States</td>\n      <td>&gt;50K</td>\n    </tr>\n    <tr>\n      <th>5</th>\n      <td>34</td>\n      <td>Private</td>\n      <td>10th</td>\n      <td>6</td>\n      <td>Never-married</td>\n      <td>Other-service</td>\n      <td>Not-in-family</td>\n      <td>White</td>\n      <td>Male</td>\n      <td>0</td>\n      <td>0</td>\n      <td>30</td>\n      <td>United-States</td>\n      <td>&lt;=50K</td>\n    </tr>\n    <tr>\n      <th>7</th>\n      <td>63</td>\n      <td>Self-emp-not-inc</td>\n      <td>Prof-school</td>\n      <td>15</td>\n      <td>Married-civ-spouse</td>\n      <td>Prof-specialty</td>\n      <td>Husband</td>\n      <td>White</td>\n      <td>Male</td>\n      <td>3103</td>\n      <td>0</td>\n      <td>32</td>\n      <td>United-States</td>\n      <td>&gt;50K</td>\n    </tr>\n    <tr>\n      <th>9</th>\n      <td>55</td>\n      <td>Private</td>\n      <td>7th-8th</td>\n      <td>4</td>\n      <td>Married-civ-spouse</td>\n      <td>Craft-repair</td>\n      <td>Husband</td>\n      <td>White</td>\n      <td>Male</td>\n      <td>0</td>\n      <td>0</td>\n      <td>10</td>\n      <td>United-States</td>\n      <td>&lt;=50K</td>\n    </tr>\n    <tr>\n      <th>...</th>\n      <td>...</td>\n      <td>...</td>\n      <td>...</td>\n      <td>...</td>\n      <td>...</td>\n      <td>...</td>\n      <td>...</td>\n      <td>...</td>\n      <td>...</td>\n      <td>...</td>\n      <td>...</td>\n      <td>...</td>\n      <td>...</td>\n      <td>...</td>\n    </tr>\n    <tr>\n      <th>48834</th>\n      <td>32</td>\n      <td>Private</td>\n      <td>Masters</td>\n      <td>14</td>\n      <td>Never-married</td>\n      <td>Tech-support</td>\n      <td>Not-in-family</td>\n      <td>Asian-Pac-Islander</td>\n      <td>Male</td>\n      <td>0</td>\n      <td>0</td>\n      <td>11</td>\n      <td>Taiwan</td>\n      <td>&lt;=50K</td>\n    </tr>\n    <tr>\n      <th>48835</th>\n      <td>53</td>\n      <td>Private</td>\n      <td>Masters</td>\n      <td>14</td>\n      <td>Married-civ-spouse</td>\n      <td>Exec-managerial</td>\n      <td>Husband</td>\n      <td>White</td>\n      <td>Male</td>\n      <td>0</td>\n      <td>0</td>\n      <td>40</td>\n      <td>United-States</td>\n      <td>&gt;50K</td>\n    </tr>\n    <tr>\n      <th>48838</th>\n      <td>40</td>\n      <td>Private</td>\n      <td>HS-grad</td>\n      <td>9</td>\n      <td>Married-civ-spouse</td>\n      <td>Machine-op-inspct</td>\n      <td>Husband</td>\n      <td>White</td>\n      <td>Male</td>\n      <td>0</td>\n      <td>0</td>\n      <td>40</td>\n      <td>United-States</td>\n      <td>&gt;50K</td>\n    </tr>\n    <tr>\n      <th>48839</th>\n      <td>58</td>\n      <td>Private</td>\n      <td>HS-grad</td>\n      <td>9</td>\n      <td>Widowed</td>\n      <td>Adm-clerical</td>\n      <td>Unmarried</td>\n      <td>White</td>\n      <td>Female</td>\n      <td>0</td>\n      <td>0</td>\n      <td>40</td>\n      <td>United-States</td>\n      <td>&lt;=50K</td>\n    </tr>\n    <tr>\n      <th>48841</th>\n      <td>52</td>\n      <td>Self-emp-inc</td>\n      <td>HS-grad</td>\n      <td>9</td>\n      <td>Married-civ-spouse</td>\n      <td>Exec-managerial</td>\n      <td>Wife</td>\n      <td>White</td>\n      <td>Female</td>\n      <td>15024</td>\n      <td>0</td>\n      <td>40</td>\n      <td>United-States</td>\n      <td>&gt;50K</td>\n    </tr>\n  </tbody>\n</table>\n<p>33049 rows × 14 columns</p>\n</div>"
          },
          "metadata": {}
        }
      ],
      "execution_count": 79
    },
    {
      "cell_type": "markdown",
      "source": "### filter the DataFrame to include only rows where 'age' is greater than 30 and 'capital-gain' is greater than 5000?",
      "metadata": {}
    },
    {
      "cell_type": "code",
      "source": "df.loc[(df['age'] > 30) & (df['capital-gain'] > 5000)]",
      "metadata": {
        "trusted": true
      },
      "outputs": [
        {
          "execution_count": 108,
          "output_type": "execute_result",
          "data": {
            "text/plain": "       age         workclass     education  educational-num  \\\n3       44           Private  Some-college               10   \n10      65           Private       HS-grad                9   \n25      45  Self-emp-not-inc       HS-grad                9   \n30      46         State-gov  Some-college               10   \n58      42      Self-emp-inc       HS-grad                9   \n...    ...               ...           ...              ...   \n48743   48      Self-emp-inc       HS-grad                9   \n48747   37           Private   Prof-school               15   \n48799   57         Local-gov       HS-grad                9   \n48819   38           Private     Bachelors               13   \n48841   52      Self-emp-inc       HS-grad                9   \n\n           marital-status         occupation relationship   race  gender  \\\n3      Married-civ-spouse  Machine-op-inspct      Husband  Black    Male   \n10     Married-civ-spouse  Machine-op-inspct      Husband  White    Male   \n25     Married-civ-spouse       Craft-repair      Husband  White    Male   \n30     Married-civ-spouse    Exec-managerial      Husband  Black    Male   \n58     Married-civ-spouse    Exec-managerial      Husband  White    Male   \n...                   ...                ...          ...    ...     ...   \n48743  Married-civ-spouse       Craft-repair      Husband  White    Male   \n48747  Married-civ-spouse     Prof-specialty      Husband  White    Male   \n48799  Married-civ-spouse       Craft-repair      Husband  White    Male   \n48819            Divorced     Prof-specialty    Unmarried  Black  Female   \n48841  Married-civ-spouse    Exec-managerial         Wife  White  Female   \n\n       capital-gain  capital-loss  hours-per-week native-country income  \n3              7688             0              40  United-States   >50K  \n10             6418             0              40  United-States   >50K  \n25             7298             0              90  United-States   >50K  \n30             7688             0              38  United-States   >50K  \n58             5178             0              50  United-States   >50K  \n...             ...           ...             ...            ...    ...  \n48743          7298             0              50  United-States   >50K  \n48747         15024             0              45  United-States   >50K  \n48799         99999             0              40  United-States   >50K  \n48819         15020             0              45  United-States   >50K  \n48841         15024             0              40  United-States   >50K  \n\n[2255 rows x 14 columns]",
            "text/html": "<div>\n<style scoped>\n    .dataframe tbody tr th:only-of-type {\n        vertical-align: middle;\n    }\n\n    .dataframe tbody tr th {\n        vertical-align: top;\n    }\n\n    .dataframe thead th {\n        text-align: right;\n    }\n</style>\n<table border=\"1\" class=\"dataframe\">\n  <thead>\n    <tr style=\"text-align: right;\">\n      <th></th>\n      <th>age</th>\n      <th>workclass</th>\n      <th>education</th>\n      <th>educational-num</th>\n      <th>marital-status</th>\n      <th>occupation</th>\n      <th>relationship</th>\n      <th>race</th>\n      <th>gender</th>\n      <th>capital-gain</th>\n      <th>capital-loss</th>\n      <th>hours-per-week</th>\n      <th>native-country</th>\n      <th>income</th>\n    </tr>\n  </thead>\n  <tbody>\n    <tr>\n      <th>3</th>\n      <td>44</td>\n      <td>Private</td>\n      <td>Some-college</td>\n      <td>10</td>\n      <td>Married-civ-spouse</td>\n      <td>Machine-op-inspct</td>\n      <td>Husband</td>\n      <td>Black</td>\n      <td>Male</td>\n      <td>7688</td>\n      <td>0</td>\n      <td>40</td>\n      <td>United-States</td>\n      <td>&gt;50K</td>\n    </tr>\n    <tr>\n      <th>10</th>\n      <td>65</td>\n      <td>Private</td>\n      <td>HS-grad</td>\n      <td>9</td>\n      <td>Married-civ-spouse</td>\n      <td>Machine-op-inspct</td>\n      <td>Husband</td>\n      <td>White</td>\n      <td>Male</td>\n      <td>6418</td>\n      <td>0</td>\n      <td>40</td>\n      <td>United-States</td>\n      <td>&gt;50K</td>\n    </tr>\n    <tr>\n      <th>25</th>\n      <td>45</td>\n      <td>Self-emp-not-inc</td>\n      <td>HS-grad</td>\n      <td>9</td>\n      <td>Married-civ-spouse</td>\n      <td>Craft-repair</td>\n      <td>Husband</td>\n      <td>White</td>\n      <td>Male</td>\n      <td>7298</td>\n      <td>0</td>\n      <td>90</td>\n      <td>United-States</td>\n      <td>&gt;50K</td>\n    </tr>\n    <tr>\n      <th>30</th>\n      <td>46</td>\n      <td>State-gov</td>\n      <td>Some-college</td>\n      <td>10</td>\n      <td>Married-civ-spouse</td>\n      <td>Exec-managerial</td>\n      <td>Husband</td>\n      <td>Black</td>\n      <td>Male</td>\n      <td>7688</td>\n      <td>0</td>\n      <td>38</td>\n      <td>United-States</td>\n      <td>&gt;50K</td>\n    </tr>\n    <tr>\n      <th>58</th>\n      <td>42</td>\n      <td>Self-emp-inc</td>\n      <td>HS-grad</td>\n      <td>9</td>\n      <td>Married-civ-spouse</td>\n      <td>Exec-managerial</td>\n      <td>Husband</td>\n      <td>White</td>\n      <td>Male</td>\n      <td>5178</td>\n      <td>0</td>\n      <td>50</td>\n      <td>United-States</td>\n      <td>&gt;50K</td>\n    </tr>\n    <tr>\n      <th>...</th>\n      <td>...</td>\n      <td>...</td>\n      <td>...</td>\n      <td>...</td>\n      <td>...</td>\n      <td>...</td>\n      <td>...</td>\n      <td>...</td>\n      <td>...</td>\n      <td>...</td>\n      <td>...</td>\n      <td>...</td>\n      <td>...</td>\n      <td>...</td>\n    </tr>\n    <tr>\n      <th>48743</th>\n      <td>48</td>\n      <td>Self-emp-inc</td>\n      <td>HS-grad</td>\n      <td>9</td>\n      <td>Married-civ-spouse</td>\n      <td>Craft-repair</td>\n      <td>Husband</td>\n      <td>White</td>\n      <td>Male</td>\n      <td>7298</td>\n      <td>0</td>\n      <td>50</td>\n      <td>United-States</td>\n      <td>&gt;50K</td>\n    </tr>\n    <tr>\n      <th>48747</th>\n      <td>37</td>\n      <td>Private</td>\n      <td>Prof-school</td>\n      <td>15</td>\n      <td>Married-civ-spouse</td>\n      <td>Prof-specialty</td>\n      <td>Husband</td>\n      <td>White</td>\n      <td>Male</td>\n      <td>15024</td>\n      <td>0</td>\n      <td>45</td>\n      <td>United-States</td>\n      <td>&gt;50K</td>\n    </tr>\n    <tr>\n      <th>48799</th>\n      <td>57</td>\n      <td>Local-gov</td>\n      <td>HS-grad</td>\n      <td>9</td>\n      <td>Married-civ-spouse</td>\n      <td>Craft-repair</td>\n      <td>Husband</td>\n      <td>White</td>\n      <td>Male</td>\n      <td>99999</td>\n      <td>0</td>\n      <td>40</td>\n      <td>United-States</td>\n      <td>&gt;50K</td>\n    </tr>\n    <tr>\n      <th>48819</th>\n      <td>38</td>\n      <td>Private</td>\n      <td>Bachelors</td>\n      <td>13</td>\n      <td>Divorced</td>\n      <td>Prof-specialty</td>\n      <td>Unmarried</td>\n      <td>Black</td>\n      <td>Female</td>\n      <td>15020</td>\n      <td>0</td>\n      <td>45</td>\n      <td>United-States</td>\n      <td>&gt;50K</td>\n    </tr>\n    <tr>\n      <th>48841</th>\n      <td>52</td>\n      <td>Self-emp-inc</td>\n      <td>HS-grad</td>\n      <td>9</td>\n      <td>Married-civ-spouse</td>\n      <td>Exec-managerial</td>\n      <td>Wife</td>\n      <td>White</td>\n      <td>Female</td>\n      <td>15024</td>\n      <td>0</td>\n      <td>40</td>\n      <td>United-States</td>\n      <td>&gt;50K</td>\n    </tr>\n  </tbody>\n</table>\n<p>2255 rows × 14 columns</p>\n</div>"
          },
          "metadata": {}
        }
      ],
      "execution_count": 108
    },
    {
      "cell_type": "markdown",
      "source": "### filter the DataFrame to include only rows where the 'workclass' column is in a list of given values [Federal-gov, Self-emp-inc, State-gov , Never-worked , Local-gov]?\n",
      "metadata": {}
    },
    {
      "cell_type": "code",
      "source": "df[df[\"workclass\"].isin([\"Federal-gov\" ,\"Self-emp-inc\",\"State-gov\", \"Never-worked\", \"Local-gov\"])]",
      "metadata": {
        "trusted": true
      },
      "outputs": [
        {
          "execution_count": 162,
          "output_type": "execute_result",
          "data": {
            "text/plain": "       age     workclass     education  educational-num      marital-status  \\\n2       28     Local-gov    Assoc-acdm               12  Married-civ-spouse   \n11      36   Federal-gov     Bachelors               13  Married-civ-spouse   \n16      20     State-gov  Some-college               10       Never-married   \n30      46     State-gov  Some-college               10  Married-civ-spouse   \n33      23     Local-gov  Some-college               10  Married-civ-spouse   \n...    ...           ...           ...              ...                 ...   \n48821   45     State-gov       HS-grad                9           Separated   \n48824   45     Local-gov    Assoc-acdm               12            Divorced   \n48826   39     Local-gov    Assoc-acdm               12  Married-civ-spouse   \n48830   43     State-gov  Some-college               10            Divorced   \n48841   52  Self-emp-inc       HS-grad                9  Married-civ-spouse   \n\n            occupation    relationship   race  gender  capital-gain  \\\n2      Protective-serv         Husband  White    Male             0   \n11        Adm-clerical         Husband  White    Male             0   \n16       Other-service       Own-child  White    Male             0   \n30     Exec-managerial         Husband  Black    Male          7688   \n33     Protective-serv         Husband  White    Male             0   \n...                ...             ...    ...     ...           ...   \n48821     Adm-clerical       Own-child  White  Female             0   \n48824   Prof-specialty       Unmarried  White  Female             0   \n48826     Adm-clerical            Wife  White  Female             0   \n48830     Adm-clerical  Other-relative  White  Female             0   \n48841  Exec-managerial            Wife  White  Female         15024   \n\n       capital-loss  hours-per-week native-country income  \n2                 0              40  United-States   >50K  \n11                0              40  United-States  <=50K  \n16                0              25  United-States  <=50K  \n30                0              38  United-States   >50K  \n33                0              40  United-States  <=50K  \n...             ...             ...            ...    ...  \n48821             0              40  United-States  <=50K  \n48824             0              48  United-States  <=50K  \n48826             0              20  United-States   >50K  \n48830             0              40  United-States  <=50K  \n48841             0              40  United-States   >50K  \n\n[8254 rows x 14 columns]",
            "text/html": "<div>\n<style scoped>\n    .dataframe tbody tr th:only-of-type {\n        vertical-align: middle;\n    }\n\n    .dataframe tbody tr th {\n        vertical-align: top;\n    }\n\n    .dataframe thead th {\n        text-align: right;\n    }\n</style>\n<table border=\"1\" class=\"dataframe\">\n  <thead>\n    <tr style=\"text-align: right;\">\n      <th></th>\n      <th>age</th>\n      <th>workclass</th>\n      <th>education</th>\n      <th>educational-num</th>\n      <th>marital-status</th>\n      <th>occupation</th>\n      <th>relationship</th>\n      <th>race</th>\n      <th>gender</th>\n      <th>capital-gain</th>\n      <th>capital-loss</th>\n      <th>hours-per-week</th>\n      <th>native-country</th>\n      <th>income</th>\n    </tr>\n  </thead>\n  <tbody>\n    <tr>\n      <th>2</th>\n      <td>28</td>\n      <td>Local-gov</td>\n      <td>Assoc-acdm</td>\n      <td>12</td>\n      <td>Married-civ-spouse</td>\n      <td>Protective-serv</td>\n      <td>Husband</td>\n      <td>White</td>\n      <td>Male</td>\n      <td>0</td>\n      <td>0</td>\n      <td>40</td>\n      <td>United-States</td>\n      <td>&gt;50K</td>\n    </tr>\n    <tr>\n      <th>11</th>\n      <td>36</td>\n      <td>Federal-gov</td>\n      <td>Bachelors</td>\n      <td>13</td>\n      <td>Married-civ-spouse</td>\n      <td>Adm-clerical</td>\n      <td>Husband</td>\n      <td>White</td>\n      <td>Male</td>\n      <td>0</td>\n      <td>0</td>\n      <td>40</td>\n      <td>United-States</td>\n      <td>&lt;=50K</td>\n    </tr>\n    <tr>\n      <th>16</th>\n      <td>20</td>\n      <td>State-gov</td>\n      <td>Some-college</td>\n      <td>10</td>\n      <td>Never-married</td>\n      <td>Other-service</td>\n      <td>Own-child</td>\n      <td>White</td>\n      <td>Male</td>\n      <td>0</td>\n      <td>0</td>\n      <td>25</td>\n      <td>United-States</td>\n      <td>&lt;=50K</td>\n    </tr>\n    <tr>\n      <th>30</th>\n      <td>46</td>\n      <td>State-gov</td>\n      <td>Some-college</td>\n      <td>10</td>\n      <td>Married-civ-spouse</td>\n      <td>Exec-managerial</td>\n      <td>Husband</td>\n      <td>Black</td>\n      <td>Male</td>\n      <td>7688</td>\n      <td>0</td>\n      <td>38</td>\n      <td>United-States</td>\n      <td>&gt;50K</td>\n    </tr>\n    <tr>\n      <th>33</th>\n      <td>23</td>\n      <td>Local-gov</td>\n      <td>Some-college</td>\n      <td>10</td>\n      <td>Married-civ-spouse</td>\n      <td>Protective-serv</td>\n      <td>Husband</td>\n      <td>White</td>\n      <td>Male</td>\n      <td>0</td>\n      <td>0</td>\n      <td>40</td>\n      <td>United-States</td>\n      <td>&lt;=50K</td>\n    </tr>\n    <tr>\n      <th>...</th>\n      <td>...</td>\n      <td>...</td>\n      <td>...</td>\n      <td>...</td>\n      <td>...</td>\n      <td>...</td>\n      <td>...</td>\n      <td>...</td>\n      <td>...</td>\n      <td>...</td>\n      <td>...</td>\n      <td>...</td>\n      <td>...</td>\n      <td>...</td>\n    </tr>\n    <tr>\n      <th>48821</th>\n      <td>45</td>\n      <td>State-gov</td>\n      <td>HS-grad</td>\n      <td>9</td>\n      <td>Separated</td>\n      <td>Adm-clerical</td>\n      <td>Own-child</td>\n      <td>White</td>\n      <td>Female</td>\n      <td>0</td>\n      <td>0</td>\n      <td>40</td>\n      <td>United-States</td>\n      <td>&lt;=50K</td>\n    </tr>\n    <tr>\n      <th>48824</th>\n      <td>45</td>\n      <td>Local-gov</td>\n      <td>Assoc-acdm</td>\n      <td>12</td>\n      <td>Divorced</td>\n      <td>Prof-specialty</td>\n      <td>Unmarried</td>\n      <td>White</td>\n      <td>Female</td>\n      <td>0</td>\n      <td>0</td>\n      <td>48</td>\n      <td>United-States</td>\n      <td>&lt;=50K</td>\n    </tr>\n    <tr>\n      <th>48826</th>\n      <td>39</td>\n      <td>Local-gov</td>\n      <td>Assoc-acdm</td>\n      <td>12</td>\n      <td>Married-civ-spouse</td>\n      <td>Adm-clerical</td>\n      <td>Wife</td>\n      <td>White</td>\n      <td>Female</td>\n      <td>0</td>\n      <td>0</td>\n      <td>20</td>\n      <td>United-States</td>\n      <td>&gt;50K</td>\n    </tr>\n    <tr>\n      <th>48830</th>\n      <td>43</td>\n      <td>State-gov</td>\n      <td>Some-college</td>\n      <td>10</td>\n      <td>Divorced</td>\n      <td>Adm-clerical</td>\n      <td>Other-relative</td>\n      <td>White</td>\n      <td>Female</td>\n      <td>0</td>\n      <td>0</td>\n      <td>40</td>\n      <td>United-States</td>\n      <td>&lt;=50K</td>\n    </tr>\n    <tr>\n      <th>48841</th>\n      <td>52</td>\n      <td>Self-emp-inc</td>\n      <td>HS-grad</td>\n      <td>9</td>\n      <td>Married-civ-spouse</td>\n      <td>Exec-managerial</td>\n      <td>Wife</td>\n      <td>White</td>\n      <td>Female</td>\n      <td>15024</td>\n      <td>0</td>\n      <td>40</td>\n      <td>United-States</td>\n      <td>&gt;50K</td>\n    </tr>\n  </tbody>\n</table>\n<p>8254 rows × 14 columns</p>\n</div>"
          },
          "metadata": {}
        }
      ],
      "execution_count": 162
    },
    {
      "cell_type": "markdown",
      "source": "### filter the DataFrame to include only rows where 'age' is greater than 30 and 'native-country' is 'Japan'?",
      "metadata": {}
    },
    {
      "cell_type": "code",
      "source": "\ndf.loc[(df['age'] > 30) & (df['native-country'] == 'Japan')]",
      "metadata": {
        "trusted": true
      },
      "outputs": [
        {
          "execution_count": 122,
          "output_type": "execute_result",
          "data": {
            "text/plain": "       age  workclass     education  educational-num      marital-status  \\\n396     45    Private     Bachelors               13  Married-civ-spouse   \n3560    44    Private  Some-college               10            Divorced   \n4271    32  State-gov       Masters               14       Never-married   \n5866    49    Private     Bachelors               13  Married-civ-spouse   \n6316    48    Private  Some-college               10  Married-civ-spouse   \n...    ...        ...           ...              ...                 ...   \n47083   33    Private    Assoc-acdm               12  Married-civ-spouse   \n48038   34    Private  Some-college               10       Never-married   \n48111   33    Private   Prof-school               15  Married-civ-spouse   \n48657   40    Private       HS-grad                9            Divorced   \n48814   54    Private     Bachelors               13  Married-civ-spouse   \n\n              occupation   relationship                race  gender  \\\n396      Exec-managerial        Husband  Asian-Pac-Islander    Male   \n3560        Adm-clerical  Not-in-family  Asian-Pac-Islander    Male   \n4271      Prof-specialty  Not-in-family  Asian-Pac-Islander  Female   \n5866               Sales        Husband  Asian-Pac-Islander    Male   \n6316   Handlers-cleaners           Wife               White  Female   \n...                  ...            ...                 ...     ...   \n47083              Sales        Husband               Other    Male   \n48038       Adm-clerical  Not-in-family  Asian-Pac-Islander  Female   \n48111    Exec-managerial        Husband  Asian-Pac-Islander    Male   \n48657       Craft-repair  Not-in-family  Asian-Pac-Islander  Female   \n48814    Exec-managerial        Husband  Asian-Pac-Islander    Male   \n\n       capital-gain  capital-loss  hours-per-week native-country income  \n396               0             0              45          Japan   >50K  \n3560              0             0              40          Japan  <=50K  \n4271              0             0              40          Japan  <=50K  \n5866              0             0              50          Japan   >50K  \n6316              0             0              40          Japan  <=50K  \n...             ...           ...             ...            ...    ...  \n47083             0             0              40          Japan   >50K  \n48038             0             0              35          Japan  <=50K  \n48111             0             0              65          Japan   >50K  \n48657             0             0              40          Japan  <=50K  \n48814             0             0              50          Japan   >50K  \n\n[70 rows x 14 columns]",
            "text/html": "<div>\n<style scoped>\n    .dataframe tbody tr th:only-of-type {\n        vertical-align: middle;\n    }\n\n    .dataframe tbody tr th {\n        vertical-align: top;\n    }\n\n    .dataframe thead th {\n        text-align: right;\n    }\n</style>\n<table border=\"1\" class=\"dataframe\">\n  <thead>\n    <tr style=\"text-align: right;\">\n      <th></th>\n      <th>age</th>\n      <th>workclass</th>\n      <th>education</th>\n      <th>educational-num</th>\n      <th>marital-status</th>\n      <th>occupation</th>\n      <th>relationship</th>\n      <th>race</th>\n      <th>gender</th>\n      <th>capital-gain</th>\n      <th>capital-loss</th>\n      <th>hours-per-week</th>\n      <th>native-country</th>\n      <th>income</th>\n    </tr>\n  </thead>\n  <tbody>\n    <tr>\n      <th>396</th>\n      <td>45</td>\n      <td>Private</td>\n      <td>Bachelors</td>\n      <td>13</td>\n      <td>Married-civ-spouse</td>\n      <td>Exec-managerial</td>\n      <td>Husband</td>\n      <td>Asian-Pac-Islander</td>\n      <td>Male</td>\n      <td>0</td>\n      <td>0</td>\n      <td>45</td>\n      <td>Japan</td>\n      <td>&gt;50K</td>\n    </tr>\n    <tr>\n      <th>3560</th>\n      <td>44</td>\n      <td>Private</td>\n      <td>Some-college</td>\n      <td>10</td>\n      <td>Divorced</td>\n      <td>Adm-clerical</td>\n      <td>Not-in-family</td>\n      <td>Asian-Pac-Islander</td>\n      <td>Male</td>\n      <td>0</td>\n      <td>0</td>\n      <td>40</td>\n      <td>Japan</td>\n      <td>&lt;=50K</td>\n    </tr>\n    <tr>\n      <th>4271</th>\n      <td>32</td>\n      <td>State-gov</td>\n      <td>Masters</td>\n      <td>14</td>\n      <td>Never-married</td>\n      <td>Prof-specialty</td>\n      <td>Not-in-family</td>\n      <td>Asian-Pac-Islander</td>\n      <td>Female</td>\n      <td>0</td>\n      <td>0</td>\n      <td>40</td>\n      <td>Japan</td>\n      <td>&lt;=50K</td>\n    </tr>\n    <tr>\n      <th>5866</th>\n      <td>49</td>\n      <td>Private</td>\n      <td>Bachelors</td>\n      <td>13</td>\n      <td>Married-civ-spouse</td>\n      <td>Sales</td>\n      <td>Husband</td>\n      <td>Asian-Pac-Islander</td>\n      <td>Male</td>\n      <td>0</td>\n      <td>0</td>\n      <td>50</td>\n      <td>Japan</td>\n      <td>&gt;50K</td>\n    </tr>\n    <tr>\n      <th>6316</th>\n      <td>48</td>\n      <td>Private</td>\n      <td>Some-college</td>\n      <td>10</td>\n      <td>Married-civ-spouse</td>\n      <td>Handlers-cleaners</td>\n      <td>Wife</td>\n      <td>White</td>\n      <td>Female</td>\n      <td>0</td>\n      <td>0</td>\n      <td>40</td>\n      <td>Japan</td>\n      <td>&lt;=50K</td>\n    </tr>\n    <tr>\n      <th>...</th>\n      <td>...</td>\n      <td>...</td>\n      <td>...</td>\n      <td>...</td>\n      <td>...</td>\n      <td>...</td>\n      <td>...</td>\n      <td>...</td>\n      <td>...</td>\n      <td>...</td>\n      <td>...</td>\n      <td>...</td>\n      <td>...</td>\n      <td>...</td>\n    </tr>\n    <tr>\n      <th>47083</th>\n      <td>33</td>\n      <td>Private</td>\n      <td>Assoc-acdm</td>\n      <td>12</td>\n      <td>Married-civ-spouse</td>\n      <td>Sales</td>\n      <td>Husband</td>\n      <td>Other</td>\n      <td>Male</td>\n      <td>0</td>\n      <td>0</td>\n      <td>40</td>\n      <td>Japan</td>\n      <td>&gt;50K</td>\n    </tr>\n    <tr>\n      <th>48038</th>\n      <td>34</td>\n      <td>Private</td>\n      <td>Some-college</td>\n      <td>10</td>\n      <td>Never-married</td>\n      <td>Adm-clerical</td>\n      <td>Not-in-family</td>\n      <td>Asian-Pac-Islander</td>\n      <td>Female</td>\n      <td>0</td>\n      <td>0</td>\n      <td>35</td>\n      <td>Japan</td>\n      <td>&lt;=50K</td>\n    </tr>\n    <tr>\n      <th>48111</th>\n      <td>33</td>\n      <td>Private</td>\n      <td>Prof-school</td>\n      <td>15</td>\n      <td>Married-civ-spouse</td>\n      <td>Exec-managerial</td>\n      <td>Husband</td>\n      <td>Asian-Pac-Islander</td>\n      <td>Male</td>\n      <td>0</td>\n      <td>0</td>\n      <td>65</td>\n      <td>Japan</td>\n      <td>&gt;50K</td>\n    </tr>\n    <tr>\n      <th>48657</th>\n      <td>40</td>\n      <td>Private</td>\n      <td>HS-grad</td>\n      <td>9</td>\n      <td>Divorced</td>\n      <td>Craft-repair</td>\n      <td>Not-in-family</td>\n      <td>Asian-Pac-Islander</td>\n      <td>Female</td>\n      <td>0</td>\n      <td>0</td>\n      <td>40</td>\n      <td>Japan</td>\n      <td>&lt;=50K</td>\n    </tr>\n    <tr>\n      <th>48814</th>\n      <td>54</td>\n      <td>Private</td>\n      <td>Bachelors</td>\n      <td>13</td>\n      <td>Married-civ-spouse</td>\n      <td>Exec-managerial</td>\n      <td>Husband</td>\n      <td>Asian-Pac-Islander</td>\n      <td>Male</td>\n      <td>0</td>\n      <td>0</td>\n      <td>50</td>\n      <td>Japan</td>\n      <td>&gt;50K</td>\n    </tr>\n  </tbody>\n</table>\n<p>70 rows × 14 columns</p>\n</div>"
          },
          "metadata": {}
        }
      ],
      "execution_count": 122
    },
    {
      "cell_type": "code",
      "source": "",
      "metadata": {
        "trusted": true
      },
      "outputs": [],
      "execution_count": null
    }
  ]
}